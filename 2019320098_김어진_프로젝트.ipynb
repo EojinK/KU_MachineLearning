{
  "nbformat": 4,
  "nbformat_minor": 0,
  "metadata": {
    "colab": {
      "name": "2019320098_김어진_프로젝트.ipynb",
      "provenance": [],
      "collapsed_sections": [
        "PDDgHgZRJYD8",
        "ZdCTBgAbO7ZE",
        "fe4unc_zRIWm",
        "h3y02NQHTJe4",
        "51Jcv4clul9g",
        "odMs97jFx_JD",
        "UQL3_ayVtgax",
        "dWBLCMQ_wITs",
        "l4ZLKzg9rsg_",
        "PXCIuTHvzBDT",
        "2YGPB8M1oCPU",
        "3IUlo699kQSF",
        "vXqdmvwgr4s9",
        "52NQOc-20PJI",
        "zF62rmH08iYs",
        "2CSCOXHmMiTi",
        "D-97il9KNWNT",
        "OjKN_958TVo0"
      ],
      "toc_visible": true
    },
    "kernelspec": {
      "name": "python3",
      "display_name": "Python 3"
    },
    "language_info": {
      "name": "python"
    }
  },
  "cells": [
    {
      "cell_type": "markdown",
      "metadata": {
        "id": "F4xAs1b-VwkY"
      },
      "source": [
        "# 2021 가을학기 기계학습 기말 프로젝트\n",
        "학번 & 이름: 2019320098 김어진"
      ]
    },
    {
      "cell_type": "markdown",
      "metadata": {
        "id": "PDDgHgZRJYD8"
      },
      "source": [
        "# 1. 실험 내용에 대한 전체 요약"
      ]
    },
    {
      "cell_type": "markdown",
      "metadata": {
        "id": "RwLOGH2NRGIT"
      },
      "source": [
        " * 본 프로젝트에서는 Mobile App Store data에 대해 genre가 game인지, 아닌지를 classify하는 최적의 model을 알아보고자 했다. 이를 위해 Decision Tree, KNN, Multilayer Perception(MLP) 세 개의 classification model을 사용하였고 parameter를 변경해가며 각각의 성능을 비교, 분석했다. \n",
        "  \n",
        "* 데이터 전처리: 모델을 적용하기 전 data head, type을 출력해서 dataset이 어떻게 이루어져 있는지를 파악했다. onehot함수를 통해 genre_Games라는 새로운 feature를 만들어 주었다. data를 train, test set로 분리하고 z-score 정규화를 진행했다.\n",
        "* feature selection: 일변량 통계 기법을 사용했다. 그러나 feature selection을 적용해도 성능에 변화가 없었기 때문에 feature selection을 적용하지 않은 버전으로 아래 실험을 진행했다.\n",
        "* Decision Tree: \n",
        "default model에 대해서 성능을 실험한 후에 여러 가지 parameter를 변경해 가면서 가장 좋은 성능을 가지는 model을 찾아 보았다. 평가는 5-fold cross validation을 사용했다. 그 결과, min_impurity_decrease=0.0007 로 설정한 모델에서 최상의 성능이 나왔다.\n",
        "* KNN: \n",
        "default model에 대해서 성능을 실험한 후에 여러 가지 parameter를 변경해 가면서 가장 좋은 성능을 가지는 model을 찾아 보았다. 평가는 5-fold cross validation을 사용했다. 그 결과, n_neighbors=200, p=1로 설정한 모델에서 최상의 성능이 나왔다.\n",
        "* MLP: \n",
        "default model에 대해서 성능을 실험한 후에 여러 가지 parameter를 변경해 가면서 가장 좋은 성능을 가지는 model을 찾아 보았다. 평가는 5-fold cross validation을 사용했다. 그 결과,  hidden_layer_sizes=(1000,) 로 설정한 모델에서 최상의 성능이 나왔다.\n",
        "* ensemble model: Random Forest를 가지고 실험해 보았다. 이 역시 default model에 대해서 성능을 실험한 후에 여러 가지 parameter를 변경해 가면서 가장 좋은 성능을 가지는 model을 찾아 보았다. 평가는 5-fold cross validation을 사용했다. 그 결과,  min_samples_leaf=4로 설정한 모델에서 최상의 성능이 나왔다.\n",
        "* 종합적인 평가 결과, 최종 모델은 Random Forest(min_samples_leaf=4)로 결정하였다. \n",
        "\n",
        "\n"
      ]
    },
    {
      "cell_type": "markdown",
      "source": [
        "# 2. 선정한 데이터에 대한 설명 및 데이터 URL"
      ],
      "metadata": {
        "id": "ZdCTBgAbO7ZE"
      }
    },
    {
      "cell_type": "markdown",
      "source": [
        "kaggle의 Mobile App Store (7200 apps) data를 사용했다. feature와 instance가 풍부하고 다양하기 때문에 본 데이터를 사용했다. \n",
        "17개의 feature, 약 7천개의 instance를 가지고 있는 dataset이다.\n",
        "data url과 각 feature에 대한 설명은 아래와 같다.\n",
        "* 데이터 url: https://www.kaggle.com/ramamet4/app-store-appledata-set-10k-apps "
      ],
      "metadata": {
        "id": "Ojy-1pRGPHEa"
      }
    },
    {
      "cell_type": "markdown",
      "source": [
        "    \"id\" : App ID\n",
        "    \"track_name\": App Name\n",
        "    \"size_bytes\": Size (in Bytes)\n",
        "    \"currency\": Currency Type\n",
        "    \"price\": Price amount\n",
        "    \"ratingcounttot\": User Rating counts (for all version)\n",
        "    \"ratingcountver\": User Rating counts (for current version)\n",
        "    \"user_rating\" : Average User Rating value (for all version)\n",
        "    \"userratingver\": Average User Rating value (for current version)\n",
        "    \"ver\" : Latest version code\n",
        "    \"cont_rating\": Content Rating\n",
        "    \"prime_genre\": Primary Genre\n",
        "    \"sup_devices.num\": Number of supporting devices\n",
        "    \"ipadSc_urls.num\": Number of screenshots showed for display\n",
        "    \"lang.num\": Number of supported languages\n",
        "    \"vpp_lic\": Vpp Device Based Licensing Enabled"
      ],
      "metadata": {
        "id": "yd1K4tt6BCBy"
      }
    },
    {
      "cell_type": "markdown",
      "source": [
        "본 실험에서는 'size_bytes','price','rating_count_tot','user_rating', 'sup_devices.num','ipadSc_urls.num','lang.num','genre_Games' 이렇게 8개 항목의 feature를 선택했다. dataset을 게임인 것과 게임이 아닌 것으로 classify하는 모델을 만들고 싶었기 때문에 'genre_Games'는 onehot encoding을 통해 새로 만들어냈다."
      ],
      "metadata": {
        "id": "SjspRcwrMLjx"
      }
    },
    {
      "cell_type": "markdown",
      "metadata": {
        "id": "fe4unc_zRIWm"
      },
      "source": [
        "# 3. 실험 설계 및 방법"
      ]
    },
    {
      "cell_type": "markdown",
      "metadata": {
        "id": "5VRGhAlsSbts"
      },
      "source": [
        "* data URL을 통해서 classify할 data를 불러오고, data head와 type을 출력해서 dataset이 어떻게 구성되어 있는지를 파악한다.\n",
        "* 어떤 feature에 대해 classify를 할 것인지를 결정한다. 여기에서는 장르가 game인지, 아닌지를 classify하려고 결정했다.\n",
        "* one hot encoding을 사용해 genre_Games라는 새로운 feature를 생상한다. 1이면 게임 장르이고, 0이면 게임이 아닌 다른 장르의 app이라는 의미이다. \n",
        "* genre_Games를 포함해서 classify에 사용하고 싶은 8개의 feature를 선택한다. \n",
        "* data를 train, test set로 분리하고 z-score 정규화를 진행한다.\n",
        "* feature selection (일변량 통계) 를 진행한다. feature selection을 했을 때 성능이 더 좋게 나오면 이때의 feature로 실험을 진행하고, 그렇지 않거나 변화가 없으면 원래의 특성으로 실험을 진행한다.\n",
        "* Decision Tree에 대해 parameter를 조작하지 않은 default model을 생성하고 훈련한다. 5-fold cross validation을 통해 default model의 성능을 검증한다.\n",
        "* Decision Tree에 대해 여러 종류의 parameter를 조작해서 model을 생성하고 훈련한다. 5-fold cross validation을 통해 이 model들의 성능을 검증하고, 가장 성능이 좋은 모델을 선정한다. \n",
        "* KNN, Multilayer Perception(MLP)에 대해서도 Decision Tree와 동일한 실험을 진행한다.\n",
        "* Ensemble 기법으로 Random Forest를 사용한다. Random Forest에서도 동일한 실험을 진행한다. \n",
        "* 모든 모델의 성능을 종합해서 최상의 성능을 낸 모델을 선정한다. 이 모델에 대해 여러 가지 evaluation 기법을 사용해 평가, 분석해 본다. "
      ]
    },
    {
      "cell_type": "markdown",
      "metadata": {
        "id": "h3y02NQHTJe4"
      },
      "source": [
        "# 4. 실험 과정 (비교를 위해 시도한 trial 및 error)"
      ]
    },
    {
      "cell_type": "markdown",
      "source": [
        "## data 전처리"
      ],
      "metadata": {
        "id": "51Jcv4clul9g"
      }
    },
    {
      "cell_type": "code",
      "metadata": {
        "id": "DEAnsiDKHY6M",
        "colab": {
          "base_uri": "https://localhost:8080/",
          "height": 479
        },
        "outputId": "e4a61b13-a9da-4987-b8ed-fe8aad5e50dc"
      },
      "source": [
        "# apple store data를 load한다.\n",
        "import pandas as pd\n",
        "import matplotlib.pyplot as plt\n",
        "\n",
        "data_url = \"https://raw.githubusercontent.com/EojinK/datasets/master/AppleStore.csv\"\n",
        "df = pd.read_csv(data_url)\n",
        "df.head()"
      ],
      "execution_count": 26,
      "outputs": [
        {
          "output_type": "execute_result",
          "data": {
            "text/html": [
              "\n",
              "  <div id=\"df-79c1f810-9145-4cf0-a1b0-3db48d8fef81\">\n",
              "    <div class=\"colab-df-container\">\n",
              "      <div>\n",
              "<style scoped>\n",
              "    .dataframe tbody tr th:only-of-type {\n",
              "        vertical-align: middle;\n",
              "    }\n",
              "\n",
              "    .dataframe tbody tr th {\n",
              "        vertical-align: top;\n",
              "    }\n",
              "\n",
              "    .dataframe thead th {\n",
              "        text-align: right;\n",
              "    }\n",
              "</style>\n",
              "<table border=\"1\" class=\"dataframe\">\n",
              "  <thead>\n",
              "    <tr style=\"text-align: right;\">\n",
              "      <th></th>\n",
              "      <th>Unnamed: 0</th>\n",
              "      <th>id</th>\n",
              "      <th>track_name</th>\n",
              "      <th>size_bytes</th>\n",
              "      <th>currency</th>\n",
              "      <th>price</th>\n",
              "      <th>rating_count_tot</th>\n",
              "      <th>rating_count_ver</th>\n",
              "      <th>user_rating</th>\n",
              "      <th>user_rating_ver</th>\n",
              "      <th>ver</th>\n",
              "      <th>cont_rating</th>\n",
              "      <th>prime_genre</th>\n",
              "      <th>sup_devices.num</th>\n",
              "      <th>ipadSc_urls.num</th>\n",
              "      <th>lang.num</th>\n",
              "      <th>vpp_lic</th>\n",
              "    </tr>\n",
              "  </thead>\n",
              "  <tbody>\n",
              "    <tr>\n",
              "      <th>0</th>\n",
              "      <td>1</td>\n",
              "      <td>281656475</td>\n",
              "      <td>PAC-MAN Premium</td>\n",
              "      <td>100788224</td>\n",
              "      <td>USD</td>\n",
              "      <td>3.99</td>\n",
              "      <td>21292</td>\n",
              "      <td>26</td>\n",
              "      <td>4.0</td>\n",
              "      <td>4.5</td>\n",
              "      <td>6.3.5</td>\n",
              "      <td>4+</td>\n",
              "      <td>Games</td>\n",
              "      <td>38</td>\n",
              "      <td>5</td>\n",
              "      <td>10</td>\n",
              "      <td>1</td>\n",
              "    </tr>\n",
              "    <tr>\n",
              "      <th>1</th>\n",
              "      <td>2</td>\n",
              "      <td>281796108</td>\n",
              "      <td>Evernote - stay organized</td>\n",
              "      <td>158578688</td>\n",
              "      <td>USD</td>\n",
              "      <td>0.00</td>\n",
              "      <td>161065</td>\n",
              "      <td>26</td>\n",
              "      <td>4.0</td>\n",
              "      <td>3.5</td>\n",
              "      <td>8.2.2</td>\n",
              "      <td>4+</td>\n",
              "      <td>Productivity</td>\n",
              "      <td>37</td>\n",
              "      <td>5</td>\n",
              "      <td>23</td>\n",
              "      <td>1</td>\n",
              "    </tr>\n",
              "    <tr>\n",
              "      <th>2</th>\n",
              "      <td>3</td>\n",
              "      <td>281940292</td>\n",
              "      <td>WeatherBug - Local Weather, Radar, Maps, Alerts</td>\n",
              "      <td>100524032</td>\n",
              "      <td>USD</td>\n",
              "      <td>0.00</td>\n",
              "      <td>188583</td>\n",
              "      <td>2822</td>\n",
              "      <td>3.5</td>\n",
              "      <td>4.5</td>\n",
              "      <td>5.0.0</td>\n",
              "      <td>4+</td>\n",
              "      <td>Weather</td>\n",
              "      <td>37</td>\n",
              "      <td>5</td>\n",
              "      <td>3</td>\n",
              "      <td>1</td>\n",
              "    </tr>\n",
              "    <tr>\n",
              "      <th>3</th>\n",
              "      <td>4</td>\n",
              "      <td>282614216</td>\n",
              "      <td>eBay: Best App to Buy, Sell, Save! Online Shop...</td>\n",
              "      <td>128512000</td>\n",
              "      <td>USD</td>\n",
              "      <td>0.00</td>\n",
              "      <td>262241</td>\n",
              "      <td>649</td>\n",
              "      <td>4.0</td>\n",
              "      <td>4.5</td>\n",
              "      <td>5.10.0</td>\n",
              "      <td>12+</td>\n",
              "      <td>Shopping</td>\n",
              "      <td>37</td>\n",
              "      <td>5</td>\n",
              "      <td>9</td>\n",
              "      <td>1</td>\n",
              "    </tr>\n",
              "    <tr>\n",
              "      <th>4</th>\n",
              "      <td>5</td>\n",
              "      <td>282935706</td>\n",
              "      <td>Bible</td>\n",
              "      <td>92774400</td>\n",
              "      <td>USD</td>\n",
              "      <td>0.00</td>\n",
              "      <td>985920</td>\n",
              "      <td>5320</td>\n",
              "      <td>4.5</td>\n",
              "      <td>5.0</td>\n",
              "      <td>7.5.1</td>\n",
              "      <td>4+</td>\n",
              "      <td>Reference</td>\n",
              "      <td>37</td>\n",
              "      <td>5</td>\n",
              "      <td>45</td>\n",
              "      <td>1</td>\n",
              "    </tr>\n",
              "  </tbody>\n",
              "</table>\n",
              "</div>\n",
              "      <button class=\"colab-df-convert\" onclick=\"convertToInteractive('df-79c1f810-9145-4cf0-a1b0-3db48d8fef81')\"\n",
              "              title=\"Convert this dataframe to an interactive table.\"\n",
              "              style=\"display:none;\">\n",
              "        \n",
              "  <svg xmlns=\"http://www.w3.org/2000/svg\" height=\"24px\"viewBox=\"0 0 24 24\"\n",
              "       width=\"24px\">\n",
              "    <path d=\"M0 0h24v24H0V0z\" fill=\"none\"/>\n",
              "    <path d=\"M18.56 5.44l.94 2.06.94-2.06 2.06-.94-2.06-.94-.94-2.06-.94 2.06-2.06.94zm-11 1L8.5 8.5l.94-2.06 2.06-.94-2.06-.94L8.5 2.5l-.94 2.06-2.06.94zm10 10l.94 2.06.94-2.06 2.06-.94-2.06-.94-.94-2.06-.94 2.06-2.06.94z\"/><path d=\"M17.41 7.96l-1.37-1.37c-.4-.4-.92-.59-1.43-.59-.52 0-1.04.2-1.43.59L10.3 9.45l-7.72 7.72c-.78.78-.78 2.05 0 2.83L4 21.41c.39.39.9.59 1.41.59.51 0 1.02-.2 1.41-.59l7.78-7.78 2.81-2.81c.8-.78.8-2.07 0-2.86zM5.41 20L4 18.59l7.72-7.72 1.47 1.35L5.41 20z\"/>\n",
              "  </svg>\n",
              "      </button>\n",
              "      \n",
              "  <style>\n",
              "    .colab-df-container {\n",
              "      display:flex;\n",
              "      flex-wrap:wrap;\n",
              "      gap: 12px;\n",
              "    }\n",
              "\n",
              "    .colab-df-convert {\n",
              "      background-color: #E8F0FE;\n",
              "      border: none;\n",
              "      border-radius: 50%;\n",
              "      cursor: pointer;\n",
              "      display: none;\n",
              "      fill: #1967D2;\n",
              "      height: 32px;\n",
              "      padding: 0 0 0 0;\n",
              "      width: 32px;\n",
              "    }\n",
              "\n",
              "    .colab-df-convert:hover {\n",
              "      background-color: #E2EBFA;\n",
              "      box-shadow: 0px 1px 2px rgba(60, 64, 67, 0.3), 0px 1px 3px 1px rgba(60, 64, 67, 0.15);\n",
              "      fill: #174EA6;\n",
              "    }\n",
              "\n",
              "    [theme=dark] .colab-df-convert {\n",
              "      background-color: #3B4455;\n",
              "      fill: #D2E3FC;\n",
              "    }\n",
              "\n",
              "    [theme=dark] .colab-df-convert:hover {\n",
              "      background-color: #434B5C;\n",
              "      box-shadow: 0px 1px 3px 1px rgba(0, 0, 0, 0.15);\n",
              "      filter: drop-shadow(0px 1px 2px rgba(0, 0, 0, 0.3));\n",
              "      fill: #FFFFFF;\n",
              "    }\n",
              "  </style>\n",
              "\n",
              "      <script>\n",
              "        const buttonEl =\n",
              "          document.querySelector('#df-79c1f810-9145-4cf0-a1b0-3db48d8fef81 button.colab-df-convert');\n",
              "        buttonEl.style.display =\n",
              "          google.colab.kernel.accessAllowed ? 'block' : 'none';\n",
              "\n",
              "        async function convertToInteractive(key) {\n",
              "          const element = document.querySelector('#df-79c1f810-9145-4cf0-a1b0-3db48d8fef81');\n",
              "          const dataTable =\n",
              "            await google.colab.kernel.invokeFunction('convertToInteractive',\n",
              "                                                     [key], {});\n",
              "          if (!dataTable) return;\n",
              "\n",
              "          const docLinkHtml = 'Like what you see? Visit the ' +\n",
              "            '<a target=\"_blank\" href=https://colab.research.google.com/notebooks/data_table.ipynb>data table notebook</a>'\n",
              "            + ' to learn more about interactive tables.';\n",
              "          element.innerHTML = '';\n",
              "          dataTable['output_type'] = 'display_data';\n",
              "          await google.colab.output.renderOutput(dataTable, element);\n",
              "          const docLink = document.createElement('div');\n",
              "          docLink.innerHTML = docLinkHtml;\n",
              "          element.appendChild(docLink);\n",
              "        }\n",
              "      </script>\n",
              "    </div>\n",
              "  </div>\n",
              "  "
            ],
            "text/plain": [
              "   Unnamed: 0         id  ... lang.num  vpp_lic\n",
              "0           1  281656475  ...       10        1\n",
              "1           2  281796108  ...       23        1\n",
              "2           3  281940292  ...        3        1\n",
              "3           4  282614216  ...        9        1\n",
              "4           5  282935706  ...       45        1\n",
              "\n",
              "[5 rows x 17 columns]"
            ]
          },
          "metadata": {},
          "execution_count": 26
        }
      ]
    },
    {
      "cell_type": "code",
      "metadata": {
        "colab": {
          "base_uri": "https://localhost:8080/"
        },
        "id": "C3ppxPM7rqe4",
        "outputId": "77f451b9-6896-4230-be1b-3800c072b7c8"
      },
      "source": [
        "# data type을 확인한다.\n",
        "df.dtypes"
      ],
      "execution_count": 27,
      "outputs": [
        {
          "output_type": "execute_result",
          "data": {
            "text/plain": [
              "Unnamed: 0            int64\n",
              "id                    int64\n",
              "track_name           object\n",
              "size_bytes            int64\n",
              "currency             object\n",
              "price               float64\n",
              "rating_count_tot      int64\n",
              "rating_count_ver      int64\n",
              "user_rating         float64\n",
              "user_rating_ver     float64\n",
              "ver                  object\n",
              "cont_rating          object\n",
              "prime_genre          object\n",
              "sup_devices.num       int64\n",
              "ipadSc_urls.num       int64\n",
              "lang.num              int64\n",
              "vpp_lic               int64\n",
              "dtype: object"
            ]
          },
          "metadata": {},
          "execution_count": 27
        }
      ]
    },
    {
      "cell_type": "code",
      "metadata": {
        "id": "8iu7AEqDKpCd"
      },
      "source": [
        "# 혹시 모를 na값을 drop하기 위해 사용한다.\n",
        "df = df.dropna()"
      ],
      "execution_count": 28,
      "outputs": []
    },
    {
      "cell_type": "code",
      "metadata": {
        "id": "ave9TKYUslGh",
        "colab": {
          "base_uri": "https://localhost:8080/",
          "height": 288
        },
        "outputId": "446601c1-dbad-4b50-ab77-879ead2731e7"
      },
      "source": [
        "# genre에 대해 one-hot encoding을 한다.\n",
        "onehot_df = pd.get_dummies(df.prime_genre,prefix=\"genre\")\n",
        "onehot_df.head()"
      ],
      "execution_count": 29,
      "outputs": [
        {
          "output_type": "execute_result",
          "data": {
            "text/html": [
              "\n",
              "  <div id=\"df-f008964a-bbac-4430-a11d-673aaaba03b7\">\n",
              "    <div class=\"colab-df-container\">\n",
              "      <div>\n",
              "<style scoped>\n",
              "    .dataframe tbody tr th:only-of-type {\n",
              "        vertical-align: middle;\n",
              "    }\n",
              "\n",
              "    .dataframe tbody tr th {\n",
              "        vertical-align: top;\n",
              "    }\n",
              "\n",
              "    .dataframe thead th {\n",
              "        text-align: right;\n",
              "    }\n",
              "</style>\n",
              "<table border=\"1\" class=\"dataframe\">\n",
              "  <thead>\n",
              "    <tr style=\"text-align: right;\">\n",
              "      <th></th>\n",
              "      <th>genre_Book</th>\n",
              "      <th>genre_Business</th>\n",
              "      <th>genre_Catalogs</th>\n",
              "      <th>genre_Education</th>\n",
              "      <th>genre_Entertainment</th>\n",
              "      <th>genre_Finance</th>\n",
              "      <th>genre_Food &amp; Drink</th>\n",
              "      <th>genre_Games</th>\n",
              "      <th>genre_Health &amp; Fitness</th>\n",
              "      <th>genre_Lifestyle</th>\n",
              "      <th>genre_Medical</th>\n",
              "      <th>genre_Music</th>\n",
              "      <th>genre_Navigation</th>\n",
              "      <th>genre_News</th>\n",
              "      <th>genre_Photo &amp; Video</th>\n",
              "      <th>genre_Productivity</th>\n",
              "      <th>genre_Reference</th>\n",
              "      <th>genre_Shopping</th>\n",
              "      <th>genre_Social Networking</th>\n",
              "      <th>genre_Sports</th>\n",
              "      <th>genre_Travel</th>\n",
              "      <th>genre_Utilities</th>\n",
              "      <th>genre_Weather</th>\n",
              "    </tr>\n",
              "  </thead>\n",
              "  <tbody>\n",
              "    <tr>\n",
              "      <th>0</th>\n",
              "      <td>0</td>\n",
              "      <td>0</td>\n",
              "      <td>0</td>\n",
              "      <td>0</td>\n",
              "      <td>0</td>\n",
              "      <td>0</td>\n",
              "      <td>0</td>\n",
              "      <td>1</td>\n",
              "      <td>0</td>\n",
              "      <td>0</td>\n",
              "      <td>0</td>\n",
              "      <td>0</td>\n",
              "      <td>0</td>\n",
              "      <td>0</td>\n",
              "      <td>0</td>\n",
              "      <td>0</td>\n",
              "      <td>0</td>\n",
              "      <td>0</td>\n",
              "      <td>0</td>\n",
              "      <td>0</td>\n",
              "      <td>0</td>\n",
              "      <td>0</td>\n",
              "      <td>0</td>\n",
              "    </tr>\n",
              "    <tr>\n",
              "      <th>1</th>\n",
              "      <td>0</td>\n",
              "      <td>0</td>\n",
              "      <td>0</td>\n",
              "      <td>0</td>\n",
              "      <td>0</td>\n",
              "      <td>0</td>\n",
              "      <td>0</td>\n",
              "      <td>0</td>\n",
              "      <td>0</td>\n",
              "      <td>0</td>\n",
              "      <td>0</td>\n",
              "      <td>0</td>\n",
              "      <td>0</td>\n",
              "      <td>0</td>\n",
              "      <td>0</td>\n",
              "      <td>1</td>\n",
              "      <td>0</td>\n",
              "      <td>0</td>\n",
              "      <td>0</td>\n",
              "      <td>0</td>\n",
              "      <td>0</td>\n",
              "      <td>0</td>\n",
              "      <td>0</td>\n",
              "    </tr>\n",
              "    <tr>\n",
              "      <th>2</th>\n",
              "      <td>0</td>\n",
              "      <td>0</td>\n",
              "      <td>0</td>\n",
              "      <td>0</td>\n",
              "      <td>0</td>\n",
              "      <td>0</td>\n",
              "      <td>0</td>\n",
              "      <td>0</td>\n",
              "      <td>0</td>\n",
              "      <td>0</td>\n",
              "      <td>0</td>\n",
              "      <td>0</td>\n",
              "      <td>0</td>\n",
              "      <td>0</td>\n",
              "      <td>0</td>\n",
              "      <td>0</td>\n",
              "      <td>0</td>\n",
              "      <td>0</td>\n",
              "      <td>0</td>\n",
              "      <td>0</td>\n",
              "      <td>0</td>\n",
              "      <td>0</td>\n",
              "      <td>1</td>\n",
              "    </tr>\n",
              "    <tr>\n",
              "      <th>3</th>\n",
              "      <td>0</td>\n",
              "      <td>0</td>\n",
              "      <td>0</td>\n",
              "      <td>0</td>\n",
              "      <td>0</td>\n",
              "      <td>0</td>\n",
              "      <td>0</td>\n",
              "      <td>0</td>\n",
              "      <td>0</td>\n",
              "      <td>0</td>\n",
              "      <td>0</td>\n",
              "      <td>0</td>\n",
              "      <td>0</td>\n",
              "      <td>0</td>\n",
              "      <td>0</td>\n",
              "      <td>0</td>\n",
              "      <td>0</td>\n",
              "      <td>1</td>\n",
              "      <td>0</td>\n",
              "      <td>0</td>\n",
              "      <td>0</td>\n",
              "      <td>0</td>\n",
              "      <td>0</td>\n",
              "    </tr>\n",
              "    <tr>\n",
              "      <th>4</th>\n",
              "      <td>0</td>\n",
              "      <td>0</td>\n",
              "      <td>0</td>\n",
              "      <td>0</td>\n",
              "      <td>0</td>\n",
              "      <td>0</td>\n",
              "      <td>0</td>\n",
              "      <td>0</td>\n",
              "      <td>0</td>\n",
              "      <td>0</td>\n",
              "      <td>0</td>\n",
              "      <td>0</td>\n",
              "      <td>0</td>\n",
              "      <td>0</td>\n",
              "      <td>0</td>\n",
              "      <td>0</td>\n",
              "      <td>1</td>\n",
              "      <td>0</td>\n",
              "      <td>0</td>\n",
              "      <td>0</td>\n",
              "      <td>0</td>\n",
              "      <td>0</td>\n",
              "      <td>0</td>\n",
              "    </tr>\n",
              "  </tbody>\n",
              "</table>\n",
              "</div>\n",
              "      <button class=\"colab-df-convert\" onclick=\"convertToInteractive('df-f008964a-bbac-4430-a11d-673aaaba03b7')\"\n",
              "              title=\"Convert this dataframe to an interactive table.\"\n",
              "              style=\"display:none;\">\n",
              "        \n",
              "  <svg xmlns=\"http://www.w3.org/2000/svg\" height=\"24px\"viewBox=\"0 0 24 24\"\n",
              "       width=\"24px\">\n",
              "    <path d=\"M0 0h24v24H0V0z\" fill=\"none\"/>\n",
              "    <path d=\"M18.56 5.44l.94 2.06.94-2.06 2.06-.94-2.06-.94-.94-2.06-.94 2.06-2.06.94zm-11 1L8.5 8.5l.94-2.06 2.06-.94-2.06-.94L8.5 2.5l-.94 2.06-2.06.94zm10 10l.94 2.06.94-2.06 2.06-.94-2.06-.94-.94-2.06-.94 2.06-2.06.94z\"/><path d=\"M17.41 7.96l-1.37-1.37c-.4-.4-.92-.59-1.43-.59-.52 0-1.04.2-1.43.59L10.3 9.45l-7.72 7.72c-.78.78-.78 2.05 0 2.83L4 21.41c.39.39.9.59 1.41.59.51 0 1.02-.2 1.41-.59l7.78-7.78 2.81-2.81c.8-.78.8-2.07 0-2.86zM5.41 20L4 18.59l7.72-7.72 1.47 1.35L5.41 20z\"/>\n",
              "  </svg>\n",
              "      </button>\n",
              "      \n",
              "  <style>\n",
              "    .colab-df-container {\n",
              "      display:flex;\n",
              "      flex-wrap:wrap;\n",
              "      gap: 12px;\n",
              "    }\n",
              "\n",
              "    .colab-df-convert {\n",
              "      background-color: #E8F0FE;\n",
              "      border: none;\n",
              "      border-radius: 50%;\n",
              "      cursor: pointer;\n",
              "      display: none;\n",
              "      fill: #1967D2;\n",
              "      height: 32px;\n",
              "      padding: 0 0 0 0;\n",
              "      width: 32px;\n",
              "    }\n",
              "\n",
              "    .colab-df-convert:hover {\n",
              "      background-color: #E2EBFA;\n",
              "      box-shadow: 0px 1px 2px rgba(60, 64, 67, 0.3), 0px 1px 3px 1px rgba(60, 64, 67, 0.15);\n",
              "      fill: #174EA6;\n",
              "    }\n",
              "\n",
              "    [theme=dark] .colab-df-convert {\n",
              "      background-color: #3B4455;\n",
              "      fill: #D2E3FC;\n",
              "    }\n",
              "\n",
              "    [theme=dark] .colab-df-convert:hover {\n",
              "      background-color: #434B5C;\n",
              "      box-shadow: 0px 1px 3px 1px rgba(0, 0, 0, 0.15);\n",
              "      filter: drop-shadow(0px 1px 2px rgba(0, 0, 0, 0.3));\n",
              "      fill: #FFFFFF;\n",
              "    }\n",
              "  </style>\n",
              "\n",
              "      <script>\n",
              "        const buttonEl =\n",
              "          document.querySelector('#df-f008964a-bbac-4430-a11d-673aaaba03b7 button.colab-df-convert');\n",
              "        buttonEl.style.display =\n",
              "          google.colab.kernel.accessAllowed ? 'block' : 'none';\n",
              "\n",
              "        async function convertToInteractive(key) {\n",
              "          const element = document.querySelector('#df-f008964a-bbac-4430-a11d-673aaaba03b7');\n",
              "          const dataTable =\n",
              "            await google.colab.kernel.invokeFunction('convertToInteractive',\n",
              "                                                     [key], {});\n",
              "          if (!dataTable) return;\n",
              "\n",
              "          const docLinkHtml = 'Like what you see? Visit the ' +\n",
              "            '<a target=\"_blank\" href=https://colab.research.google.com/notebooks/data_table.ipynb>data table notebook</a>'\n",
              "            + ' to learn more about interactive tables.';\n",
              "          element.innerHTML = '';\n",
              "          dataTable['output_type'] = 'display_data';\n",
              "          await google.colab.output.renderOutput(dataTable, element);\n",
              "          const docLink = document.createElement('div');\n",
              "          docLink.innerHTML = docLinkHtml;\n",
              "          element.appendChild(docLink);\n",
              "        }\n",
              "      </script>\n",
              "    </div>\n",
              "  </div>\n",
              "  "
            ],
            "text/plain": [
              "   genre_Book  genre_Business  ...  genre_Utilities  genre_Weather\n",
              "0           0               0  ...                0              0\n",
              "1           0               0  ...                0              0\n",
              "2           0               0  ...                0              1\n",
              "3           0               0  ...                0              0\n",
              "4           0               0  ...                0              0\n",
              "\n",
              "[5 rows x 23 columns]"
            ]
          },
          "metadata": {},
          "execution_count": 29
        }
      ]
    },
    {
      "cell_type": "code",
      "metadata": {
        "id": "4pnJeMXB13Hg",
        "colab": {
          "base_uri": "https://localhost:8080/",
          "height": 479
        },
        "outputId": "ab4522c5-94b8-4f9e-9e02-f81a7fa313cd"
      },
      "source": [
        "# 위의 데이터를 원본과 병합한다.\n",
        "df = pd.concat([df, onehot_df], axis=1)\n",
        "df.head()"
      ],
      "execution_count": 30,
      "outputs": [
        {
          "output_type": "execute_result",
          "data": {
            "text/html": [
              "\n",
              "  <div id=\"df-ac209109-dd03-4208-a849-84ff0ca34dde\">\n",
              "    <div class=\"colab-df-container\">\n",
              "      <div>\n",
              "<style scoped>\n",
              "    .dataframe tbody tr th:only-of-type {\n",
              "        vertical-align: middle;\n",
              "    }\n",
              "\n",
              "    .dataframe tbody tr th {\n",
              "        vertical-align: top;\n",
              "    }\n",
              "\n",
              "    .dataframe thead th {\n",
              "        text-align: right;\n",
              "    }\n",
              "</style>\n",
              "<table border=\"1\" class=\"dataframe\">\n",
              "  <thead>\n",
              "    <tr style=\"text-align: right;\">\n",
              "      <th></th>\n",
              "      <th>Unnamed: 0</th>\n",
              "      <th>id</th>\n",
              "      <th>track_name</th>\n",
              "      <th>size_bytes</th>\n",
              "      <th>currency</th>\n",
              "      <th>price</th>\n",
              "      <th>rating_count_tot</th>\n",
              "      <th>rating_count_ver</th>\n",
              "      <th>user_rating</th>\n",
              "      <th>user_rating_ver</th>\n",
              "      <th>ver</th>\n",
              "      <th>cont_rating</th>\n",
              "      <th>prime_genre</th>\n",
              "      <th>sup_devices.num</th>\n",
              "      <th>ipadSc_urls.num</th>\n",
              "      <th>lang.num</th>\n",
              "      <th>vpp_lic</th>\n",
              "      <th>genre_Book</th>\n",
              "      <th>genre_Business</th>\n",
              "      <th>genre_Catalogs</th>\n",
              "      <th>genre_Education</th>\n",
              "      <th>genre_Entertainment</th>\n",
              "      <th>genre_Finance</th>\n",
              "      <th>genre_Food &amp; Drink</th>\n",
              "      <th>genre_Games</th>\n",
              "      <th>genre_Health &amp; Fitness</th>\n",
              "      <th>genre_Lifestyle</th>\n",
              "      <th>genre_Medical</th>\n",
              "      <th>genre_Music</th>\n",
              "      <th>genre_Navigation</th>\n",
              "      <th>genre_News</th>\n",
              "      <th>genre_Photo &amp; Video</th>\n",
              "      <th>genre_Productivity</th>\n",
              "      <th>genre_Reference</th>\n",
              "      <th>genre_Shopping</th>\n",
              "      <th>genre_Social Networking</th>\n",
              "      <th>genre_Sports</th>\n",
              "      <th>genre_Travel</th>\n",
              "      <th>genre_Utilities</th>\n",
              "      <th>genre_Weather</th>\n",
              "    </tr>\n",
              "  </thead>\n",
              "  <tbody>\n",
              "    <tr>\n",
              "      <th>0</th>\n",
              "      <td>1</td>\n",
              "      <td>281656475</td>\n",
              "      <td>PAC-MAN Premium</td>\n",
              "      <td>100788224</td>\n",
              "      <td>USD</td>\n",
              "      <td>3.99</td>\n",
              "      <td>21292</td>\n",
              "      <td>26</td>\n",
              "      <td>4.0</td>\n",
              "      <td>4.5</td>\n",
              "      <td>6.3.5</td>\n",
              "      <td>4+</td>\n",
              "      <td>Games</td>\n",
              "      <td>38</td>\n",
              "      <td>5</td>\n",
              "      <td>10</td>\n",
              "      <td>1</td>\n",
              "      <td>0</td>\n",
              "      <td>0</td>\n",
              "      <td>0</td>\n",
              "      <td>0</td>\n",
              "      <td>0</td>\n",
              "      <td>0</td>\n",
              "      <td>0</td>\n",
              "      <td>1</td>\n",
              "      <td>0</td>\n",
              "      <td>0</td>\n",
              "      <td>0</td>\n",
              "      <td>0</td>\n",
              "      <td>0</td>\n",
              "      <td>0</td>\n",
              "      <td>0</td>\n",
              "      <td>0</td>\n",
              "      <td>0</td>\n",
              "      <td>0</td>\n",
              "      <td>0</td>\n",
              "      <td>0</td>\n",
              "      <td>0</td>\n",
              "      <td>0</td>\n",
              "      <td>0</td>\n",
              "    </tr>\n",
              "    <tr>\n",
              "      <th>1</th>\n",
              "      <td>2</td>\n",
              "      <td>281796108</td>\n",
              "      <td>Evernote - stay organized</td>\n",
              "      <td>158578688</td>\n",
              "      <td>USD</td>\n",
              "      <td>0.00</td>\n",
              "      <td>161065</td>\n",
              "      <td>26</td>\n",
              "      <td>4.0</td>\n",
              "      <td>3.5</td>\n",
              "      <td>8.2.2</td>\n",
              "      <td>4+</td>\n",
              "      <td>Productivity</td>\n",
              "      <td>37</td>\n",
              "      <td>5</td>\n",
              "      <td>23</td>\n",
              "      <td>1</td>\n",
              "      <td>0</td>\n",
              "      <td>0</td>\n",
              "      <td>0</td>\n",
              "      <td>0</td>\n",
              "      <td>0</td>\n",
              "      <td>0</td>\n",
              "      <td>0</td>\n",
              "      <td>0</td>\n",
              "      <td>0</td>\n",
              "      <td>0</td>\n",
              "      <td>0</td>\n",
              "      <td>0</td>\n",
              "      <td>0</td>\n",
              "      <td>0</td>\n",
              "      <td>0</td>\n",
              "      <td>1</td>\n",
              "      <td>0</td>\n",
              "      <td>0</td>\n",
              "      <td>0</td>\n",
              "      <td>0</td>\n",
              "      <td>0</td>\n",
              "      <td>0</td>\n",
              "      <td>0</td>\n",
              "    </tr>\n",
              "    <tr>\n",
              "      <th>2</th>\n",
              "      <td>3</td>\n",
              "      <td>281940292</td>\n",
              "      <td>WeatherBug - Local Weather, Radar, Maps, Alerts</td>\n",
              "      <td>100524032</td>\n",
              "      <td>USD</td>\n",
              "      <td>0.00</td>\n",
              "      <td>188583</td>\n",
              "      <td>2822</td>\n",
              "      <td>3.5</td>\n",
              "      <td>4.5</td>\n",
              "      <td>5.0.0</td>\n",
              "      <td>4+</td>\n",
              "      <td>Weather</td>\n",
              "      <td>37</td>\n",
              "      <td>5</td>\n",
              "      <td>3</td>\n",
              "      <td>1</td>\n",
              "      <td>0</td>\n",
              "      <td>0</td>\n",
              "      <td>0</td>\n",
              "      <td>0</td>\n",
              "      <td>0</td>\n",
              "      <td>0</td>\n",
              "      <td>0</td>\n",
              "      <td>0</td>\n",
              "      <td>0</td>\n",
              "      <td>0</td>\n",
              "      <td>0</td>\n",
              "      <td>0</td>\n",
              "      <td>0</td>\n",
              "      <td>0</td>\n",
              "      <td>0</td>\n",
              "      <td>0</td>\n",
              "      <td>0</td>\n",
              "      <td>0</td>\n",
              "      <td>0</td>\n",
              "      <td>0</td>\n",
              "      <td>0</td>\n",
              "      <td>0</td>\n",
              "      <td>1</td>\n",
              "    </tr>\n",
              "    <tr>\n",
              "      <th>3</th>\n",
              "      <td>4</td>\n",
              "      <td>282614216</td>\n",
              "      <td>eBay: Best App to Buy, Sell, Save! Online Shop...</td>\n",
              "      <td>128512000</td>\n",
              "      <td>USD</td>\n",
              "      <td>0.00</td>\n",
              "      <td>262241</td>\n",
              "      <td>649</td>\n",
              "      <td>4.0</td>\n",
              "      <td>4.5</td>\n",
              "      <td>5.10.0</td>\n",
              "      <td>12+</td>\n",
              "      <td>Shopping</td>\n",
              "      <td>37</td>\n",
              "      <td>5</td>\n",
              "      <td>9</td>\n",
              "      <td>1</td>\n",
              "      <td>0</td>\n",
              "      <td>0</td>\n",
              "      <td>0</td>\n",
              "      <td>0</td>\n",
              "      <td>0</td>\n",
              "      <td>0</td>\n",
              "      <td>0</td>\n",
              "      <td>0</td>\n",
              "      <td>0</td>\n",
              "      <td>0</td>\n",
              "      <td>0</td>\n",
              "      <td>0</td>\n",
              "      <td>0</td>\n",
              "      <td>0</td>\n",
              "      <td>0</td>\n",
              "      <td>0</td>\n",
              "      <td>0</td>\n",
              "      <td>1</td>\n",
              "      <td>0</td>\n",
              "      <td>0</td>\n",
              "      <td>0</td>\n",
              "      <td>0</td>\n",
              "      <td>0</td>\n",
              "    </tr>\n",
              "    <tr>\n",
              "      <th>4</th>\n",
              "      <td>5</td>\n",
              "      <td>282935706</td>\n",
              "      <td>Bible</td>\n",
              "      <td>92774400</td>\n",
              "      <td>USD</td>\n",
              "      <td>0.00</td>\n",
              "      <td>985920</td>\n",
              "      <td>5320</td>\n",
              "      <td>4.5</td>\n",
              "      <td>5.0</td>\n",
              "      <td>7.5.1</td>\n",
              "      <td>4+</td>\n",
              "      <td>Reference</td>\n",
              "      <td>37</td>\n",
              "      <td>5</td>\n",
              "      <td>45</td>\n",
              "      <td>1</td>\n",
              "      <td>0</td>\n",
              "      <td>0</td>\n",
              "      <td>0</td>\n",
              "      <td>0</td>\n",
              "      <td>0</td>\n",
              "      <td>0</td>\n",
              "      <td>0</td>\n",
              "      <td>0</td>\n",
              "      <td>0</td>\n",
              "      <td>0</td>\n",
              "      <td>0</td>\n",
              "      <td>0</td>\n",
              "      <td>0</td>\n",
              "      <td>0</td>\n",
              "      <td>0</td>\n",
              "      <td>0</td>\n",
              "      <td>1</td>\n",
              "      <td>0</td>\n",
              "      <td>0</td>\n",
              "      <td>0</td>\n",
              "      <td>0</td>\n",
              "      <td>0</td>\n",
              "      <td>0</td>\n",
              "    </tr>\n",
              "  </tbody>\n",
              "</table>\n",
              "</div>\n",
              "      <button class=\"colab-df-convert\" onclick=\"convertToInteractive('df-ac209109-dd03-4208-a849-84ff0ca34dde')\"\n",
              "              title=\"Convert this dataframe to an interactive table.\"\n",
              "              style=\"display:none;\">\n",
              "        \n",
              "  <svg xmlns=\"http://www.w3.org/2000/svg\" height=\"24px\"viewBox=\"0 0 24 24\"\n",
              "       width=\"24px\">\n",
              "    <path d=\"M0 0h24v24H0V0z\" fill=\"none\"/>\n",
              "    <path d=\"M18.56 5.44l.94 2.06.94-2.06 2.06-.94-2.06-.94-.94-2.06-.94 2.06-2.06.94zm-11 1L8.5 8.5l.94-2.06 2.06-.94-2.06-.94L8.5 2.5l-.94 2.06-2.06.94zm10 10l.94 2.06.94-2.06 2.06-.94-2.06-.94-.94-2.06-.94 2.06-2.06.94z\"/><path d=\"M17.41 7.96l-1.37-1.37c-.4-.4-.92-.59-1.43-.59-.52 0-1.04.2-1.43.59L10.3 9.45l-7.72 7.72c-.78.78-.78 2.05 0 2.83L4 21.41c.39.39.9.59 1.41.59.51 0 1.02-.2 1.41-.59l7.78-7.78 2.81-2.81c.8-.78.8-2.07 0-2.86zM5.41 20L4 18.59l7.72-7.72 1.47 1.35L5.41 20z\"/>\n",
              "  </svg>\n",
              "      </button>\n",
              "      \n",
              "  <style>\n",
              "    .colab-df-container {\n",
              "      display:flex;\n",
              "      flex-wrap:wrap;\n",
              "      gap: 12px;\n",
              "    }\n",
              "\n",
              "    .colab-df-convert {\n",
              "      background-color: #E8F0FE;\n",
              "      border: none;\n",
              "      border-radius: 50%;\n",
              "      cursor: pointer;\n",
              "      display: none;\n",
              "      fill: #1967D2;\n",
              "      height: 32px;\n",
              "      padding: 0 0 0 0;\n",
              "      width: 32px;\n",
              "    }\n",
              "\n",
              "    .colab-df-convert:hover {\n",
              "      background-color: #E2EBFA;\n",
              "      box-shadow: 0px 1px 2px rgba(60, 64, 67, 0.3), 0px 1px 3px 1px rgba(60, 64, 67, 0.15);\n",
              "      fill: #174EA6;\n",
              "    }\n",
              "\n",
              "    [theme=dark] .colab-df-convert {\n",
              "      background-color: #3B4455;\n",
              "      fill: #D2E3FC;\n",
              "    }\n",
              "\n",
              "    [theme=dark] .colab-df-convert:hover {\n",
              "      background-color: #434B5C;\n",
              "      box-shadow: 0px 1px 3px 1px rgba(0, 0, 0, 0.15);\n",
              "      filter: drop-shadow(0px 1px 2px rgba(0, 0, 0, 0.3));\n",
              "      fill: #FFFFFF;\n",
              "    }\n",
              "  </style>\n",
              "\n",
              "      <script>\n",
              "        const buttonEl =\n",
              "          document.querySelector('#df-ac209109-dd03-4208-a849-84ff0ca34dde button.colab-df-convert');\n",
              "        buttonEl.style.display =\n",
              "          google.colab.kernel.accessAllowed ? 'block' : 'none';\n",
              "\n",
              "        async function convertToInteractive(key) {\n",
              "          const element = document.querySelector('#df-ac209109-dd03-4208-a849-84ff0ca34dde');\n",
              "          const dataTable =\n",
              "            await google.colab.kernel.invokeFunction('convertToInteractive',\n",
              "                                                     [key], {});\n",
              "          if (!dataTable) return;\n",
              "\n",
              "          const docLinkHtml = 'Like what you see? Visit the ' +\n",
              "            '<a target=\"_blank\" href=https://colab.research.google.com/notebooks/data_table.ipynb>data table notebook</a>'\n",
              "            + ' to learn more about interactive tables.';\n",
              "          element.innerHTML = '';\n",
              "          dataTable['output_type'] = 'display_data';\n",
              "          await google.colab.output.renderOutput(dataTable, element);\n",
              "          const docLink = document.createElement('div');\n",
              "          docLink.innerHTML = docLinkHtml;\n",
              "          element.appendChild(docLink);\n",
              "        }\n",
              "      </script>\n",
              "    </div>\n",
              "  </div>\n",
              "  "
            ],
            "text/plain": [
              "   Unnamed: 0         id  ... genre_Utilities  genre_Weather\n",
              "0           1  281656475  ...               0              0\n",
              "1           2  281796108  ...               0              0\n",
              "2           3  281940292  ...               0              1\n",
              "3           4  282614216  ...               0              0\n",
              "4           5  282935706  ...               0              0\n",
              "\n",
              "[5 rows x 40 columns]"
            ]
          },
          "metadata": {},
          "execution_count": 30
        }
      ]
    },
    {
      "cell_type": "code",
      "source": [
        "# 아래의 8개 feature들만 선택한다. \n",
        "data = df[['size_bytes','price','rating_count_tot','user_rating', 'sup_devices.num','ipadSc_urls.num','lang.num','genre_Games']]\n",
        "\n",
        "data.describe()"
      ],
      "metadata": {
        "colab": {
          "base_uri": "https://localhost:8080/",
          "height": 365
        },
        "id": "WXtyXKxVigsR",
        "outputId": "5c3067b2-c3ec-4be5-dca3-091074171359"
      },
      "execution_count": 31,
      "outputs": [
        {
          "output_type": "execute_result",
          "data": {
            "text/html": [
              "\n",
              "  <div id=\"df-f86ae841-a912-413f-82fb-639162dd8430\">\n",
              "    <div class=\"colab-df-container\">\n",
              "      <div>\n",
              "<style scoped>\n",
              "    .dataframe tbody tr th:only-of-type {\n",
              "        vertical-align: middle;\n",
              "    }\n",
              "\n",
              "    .dataframe tbody tr th {\n",
              "        vertical-align: top;\n",
              "    }\n",
              "\n",
              "    .dataframe thead th {\n",
              "        text-align: right;\n",
              "    }\n",
              "</style>\n",
              "<table border=\"1\" class=\"dataframe\">\n",
              "  <thead>\n",
              "    <tr style=\"text-align: right;\">\n",
              "      <th></th>\n",
              "      <th>size_bytes</th>\n",
              "      <th>price</th>\n",
              "      <th>rating_count_tot</th>\n",
              "      <th>user_rating</th>\n",
              "      <th>sup_devices.num</th>\n",
              "      <th>ipadSc_urls.num</th>\n",
              "      <th>lang.num</th>\n",
              "      <th>genre_Games</th>\n",
              "    </tr>\n",
              "  </thead>\n",
              "  <tbody>\n",
              "    <tr>\n",
              "      <th>count</th>\n",
              "      <td>7.197000e+03</td>\n",
              "      <td>7197.000000</td>\n",
              "      <td>7.197000e+03</td>\n",
              "      <td>7197.000000</td>\n",
              "      <td>7197.000000</td>\n",
              "      <td>7197.000000</td>\n",
              "      <td>7197.000000</td>\n",
              "      <td>7197.000000</td>\n",
              "    </tr>\n",
              "    <tr>\n",
              "      <th>mean</th>\n",
              "      <td>1.991345e+08</td>\n",
              "      <td>1.726218</td>\n",
              "      <td>1.289291e+04</td>\n",
              "      <td>3.526956</td>\n",
              "      <td>37.361817</td>\n",
              "      <td>3.707100</td>\n",
              "      <td>5.434903</td>\n",
              "      <td>0.536612</td>\n",
              "    </tr>\n",
              "    <tr>\n",
              "      <th>std</th>\n",
              "      <td>3.592069e+08</td>\n",
              "      <td>5.833006</td>\n",
              "      <td>7.573941e+04</td>\n",
              "      <td>1.517948</td>\n",
              "      <td>3.737715</td>\n",
              "      <td>1.986005</td>\n",
              "      <td>7.919593</td>\n",
              "      <td>0.498692</td>\n",
              "    </tr>\n",
              "    <tr>\n",
              "      <th>min</th>\n",
              "      <td>5.898240e+05</td>\n",
              "      <td>0.000000</td>\n",
              "      <td>0.000000e+00</td>\n",
              "      <td>0.000000</td>\n",
              "      <td>9.000000</td>\n",
              "      <td>0.000000</td>\n",
              "      <td>0.000000</td>\n",
              "      <td>0.000000</td>\n",
              "    </tr>\n",
              "    <tr>\n",
              "      <th>25%</th>\n",
              "      <td>4.692275e+07</td>\n",
              "      <td>0.000000</td>\n",
              "      <td>2.800000e+01</td>\n",
              "      <td>3.500000</td>\n",
              "      <td>37.000000</td>\n",
              "      <td>3.000000</td>\n",
              "      <td>1.000000</td>\n",
              "      <td>0.000000</td>\n",
              "    </tr>\n",
              "    <tr>\n",
              "      <th>50%</th>\n",
              "      <td>9.715302e+07</td>\n",
              "      <td>0.000000</td>\n",
              "      <td>3.000000e+02</td>\n",
              "      <td>4.000000</td>\n",
              "      <td>37.000000</td>\n",
              "      <td>5.000000</td>\n",
              "      <td>1.000000</td>\n",
              "      <td>1.000000</td>\n",
              "    </tr>\n",
              "    <tr>\n",
              "      <th>75%</th>\n",
              "      <td>1.819249e+08</td>\n",
              "      <td>1.990000</td>\n",
              "      <td>2.793000e+03</td>\n",
              "      <td>4.500000</td>\n",
              "      <td>38.000000</td>\n",
              "      <td>5.000000</td>\n",
              "      <td>8.000000</td>\n",
              "      <td>1.000000</td>\n",
              "    </tr>\n",
              "    <tr>\n",
              "      <th>max</th>\n",
              "      <td>4.025970e+09</td>\n",
              "      <td>299.990000</td>\n",
              "      <td>2.974676e+06</td>\n",
              "      <td>5.000000</td>\n",
              "      <td>47.000000</td>\n",
              "      <td>5.000000</td>\n",
              "      <td>75.000000</td>\n",
              "      <td>1.000000</td>\n",
              "    </tr>\n",
              "  </tbody>\n",
              "</table>\n",
              "</div>\n",
              "      <button class=\"colab-df-convert\" onclick=\"convertToInteractive('df-f86ae841-a912-413f-82fb-639162dd8430')\"\n",
              "              title=\"Convert this dataframe to an interactive table.\"\n",
              "              style=\"display:none;\">\n",
              "        \n",
              "  <svg xmlns=\"http://www.w3.org/2000/svg\" height=\"24px\"viewBox=\"0 0 24 24\"\n",
              "       width=\"24px\">\n",
              "    <path d=\"M0 0h24v24H0V0z\" fill=\"none\"/>\n",
              "    <path d=\"M18.56 5.44l.94 2.06.94-2.06 2.06-.94-2.06-.94-.94-2.06-.94 2.06-2.06.94zm-11 1L8.5 8.5l.94-2.06 2.06-.94-2.06-.94L8.5 2.5l-.94 2.06-2.06.94zm10 10l.94 2.06.94-2.06 2.06-.94-2.06-.94-.94-2.06-.94 2.06-2.06.94z\"/><path d=\"M17.41 7.96l-1.37-1.37c-.4-.4-.92-.59-1.43-.59-.52 0-1.04.2-1.43.59L10.3 9.45l-7.72 7.72c-.78.78-.78 2.05 0 2.83L4 21.41c.39.39.9.59 1.41.59.51 0 1.02-.2 1.41-.59l7.78-7.78 2.81-2.81c.8-.78.8-2.07 0-2.86zM5.41 20L4 18.59l7.72-7.72 1.47 1.35L5.41 20z\"/>\n",
              "  </svg>\n",
              "      </button>\n",
              "      \n",
              "  <style>\n",
              "    .colab-df-container {\n",
              "      display:flex;\n",
              "      flex-wrap:wrap;\n",
              "      gap: 12px;\n",
              "    }\n",
              "\n",
              "    .colab-df-convert {\n",
              "      background-color: #E8F0FE;\n",
              "      border: none;\n",
              "      border-radius: 50%;\n",
              "      cursor: pointer;\n",
              "      display: none;\n",
              "      fill: #1967D2;\n",
              "      height: 32px;\n",
              "      padding: 0 0 0 0;\n",
              "      width: 32px;\n",
              "    }\n",
              "\n",
              "    .colab-df-convert:hover {\n",
              "      background-color: #E2EBFA;\n",
              "      box-shadow: 0px 1px 2px rgba(60, 64, 67, 0.3), 0px 1px 3px 1px rgba(60, 64, 67, 0.15);\n",
              "      fill: #174EA6;\n",
              "    }\n",
              "\n",
              "    [theme=dark] .colab-df-convert {\n",
              "      background-color: #3B4455;\n",
              "      fill: #D2E3FC;\n",
              "    }\n",
              "\n",
              "    [theme=dark] .colab-df-convert:hover {\n",
              "      background-color: #434B5C;\n",
              "      box-shadow: 0px 1px 3px 1px rgba(0, 0, 0, 0.15);\n",
              "      filter: drop-shadow(0px 1px 2px rgba(0, 0, 0, 0.3));\n",
              "      fill: #FFFFFF;\n",
              "    }\n",
              "  </style>\n",
              "\n",
              "      <script>\n",
              "        const buttonEl =\n",
              "          document.querySelector('#df-f86ae841-a912-413f-82fb-639162dd8430 button.colab-df-convert');\n",
              "        buttonEl.style.display =\n",
              "          google.colab.kernel.accessAllowed ? 'block' : 'none';\n",
              "\n",
              "        async function convertToInteractive(key) {\n",
              "          const element = document.querySelector('#df-f86ae841-a912-413f-82fb-639162dd8430');\n",
              "          const dataTable =\n",
              "            await google.colab.kernel.invokeFunction('convertToInteractive',\n",
              "                                                     [key], {});\n",
              "          if (!dataTable) return;\n",
              "\n",
              "          const docLinkHtml = 'Like what you see? Visit the ' +\n",
              "            '<a target=\"_blank\" href=https://colab.research.google.com/notebooks/data_table.ipynb>data table notebook</a>'\n",
              "            + ' to learn more about interactive tables.';\n",
              "          element.innerHTML = '';\n",
              "          dataTable['output_type'] = 'display_data';\n",
              "          await google.colab.output.renderOutput(dataTable, element);\n",
              "          const docLink = document.createElement('div');\n",
              "          docLink.innerHTML = docLinkHtml;\n",
              "          element.appendChild(docLink);\n",
              "        }\n",
              "      </script>\n",
              "    </div>\n",
              "  </div>\n",
              "  "
            ],
            "text/plain": [
              "         size_bytes        price  ...     lang.num  genre_Games\n",
              "count  7.197000e+03  7197.000000  ...  7197.000000  7197.000000\n",
              "mean   1.991345e+08     1.726218  ...     5.434903     0.536612\n",
              "std    3.592069e+08     5.833006  ...     7.919593     0.498692\n",
              "min    5.898240e+05     0.000000  ...     0.000000     0.000000\n",
              "25%    4.692275e+07     0.000000  ...     1.000000     0.000000\n",
              "50%    9.715302e+07     0.000000  ...     1.000000     1.000000\n",
              "75%    1.819249e+08     1.990000  ...     8.000000     1.000000\n",
              "max    4.025970e+09   299.990000  ...    75.000000     1.000000\n",
              "\n",
              "[8 rows x 8 columns]"
            ]
          },
          "metadata": {},
          "execution_count": 31
        }
      ]
    },
    {
      "cell_type": "code",
      "metadata": {
        "id": "m61VdTGoLFL6"
      },
      "source": [
        "# 데이터를 feature X와 label y로 분리한다.\n",
        "y = data[['genre_Games']]\n",
        "X = data.drop(columns=['genre_Games'])\n",
        "\n",
        "# train data와 test data로 분리한다.\n",
        "from sklearn.model_selection import train_test_split\n",
        "\n",
        "X_train, X_test, y_train, y_test = train_test_split(X, y, test_size=0.3, random_state=42)  "
      ],
      "execution_count": 32,
      "outputs": []
    },
    {
      "cell_type": "code",
      "metadata": {
        "id": "uVennh-Ej-Vp"
      },
      "source": [
        "# training set에 대해서 Z-Score 정규화\n",
        "X_train_mean = X_train.mean()\n",
        "X_train_std = X_train.std()\n",
        "X_train_norm = (X_train - X_train_mean)/X_train_std"
      ],
      "execution_count": 33,
      "outputs": []
    },
    {
      "cell_type": "code",
      "metadata": {
        "id": "iuaTOVg2Rjg5"
      },
      "source": [
        "# test set에 대해서 Z-Score 정규화\n",
        "X_test_mean = X_test.mean()\n",
        "X_test_std  = X_test.std()\n",
        "X_test_norm = (X_test - X_test_mean)/X_test_std"
      ],
      "execution_count": 34,
      "outputs": []
    },
    {
      "cell_type": "markdown",
      "metadata": {
        "id": "odMs97jFx_JD"
      },
      "source": [
        "## feature selection: 일변량 통계"
      ]
    },
    {
      "cell_type": "code",
      "metadata": {
        "id": "0CGWwmYtSZVX"
      },
      "source": [
        "from sklearn.feature_selection import SelectPercentile, f_classif\n",
        "from sklearn.model_selection import train_test_split\n",
        "import numpy as np\n",
        "\n",
        "# 고정된 난수를 발생시킨다.\n",
        "rng = np.random.RandomState(42)\n",
        "noise = rng.normal(size=(len(data), 50))\n",
        "# 데이터에 노이즈 특성을 추가한다. \n",
        "X_noise_ = np.hstack([data, noise])"
      ],
      "execution_count": 35,
      "outputs": []
    },
    {
      "cell_type": "code",
      "metadata": {
        "colab": {
          "base_uri": "https://localhost:8080/"
        },
        "outputId": "54926ff1-2477-49fa-8228-8de92bf43d35",
        "id": "Jnl1yeW_SZVY"
      },
      "source": [
        "# 원 데이터와 노이즈가 추가된 데이터의 크기를 비교한다.\n",
        "print(data.shape)\n",
        "print(X_noise_.shape)"
      ],
      "execution_count": 36,
      "outputs": [
        {
          "output_type": "stream",
          "name": "stdout",
          "text": [
            "(7197, 8)\n",
            "(7197, 58)\n"
          ]
        }
      ]
    },
    {
      "cell_type": "code",
      "metadata": {
        "id": "Yv0z96kiSZVY"
      },
      "source": [
        "# 데이터를 train/test셋으로 분리한다. 이때, random_state=42, test_size=0.2\n",
        "X_train_, X_test_, y_train_, y_test_ = train_test_split(X_noise_, y, random_state=42, test_size=0.2)"
      ],
      "execution_count": 37,
      "outputs": []
    },
    {
      "cell_type": "code",
      "metadata": {
        "colab": {
          "base_uri": "https://localhost:8080/"
        },
        "id": "WGqxCMs0SZVZ",
        "outputId": "cf74a6de-9398-47c4-b25f-8473949eabd6"
      },
      "source": [
        "# f_classif(기본값)과 SelectPercentile을 사용하여 특성의 50%를 선택한다.\n",
        "select = SelectPercentile(score_func=f_classif, percentile=50)\n",
        "select.fit(X_train_, y_train_)\n",
        "\n",
        "# 훈련 세트에 적용한다.\n",
        "X_train_selected_ = select.transform(X_train_)"
      ],
      "execution_count": 38,
      "outputs": [
        {
          "output_type": "stream",
          "name": "stderr",
          "text": [
            "/usr/local/lib/python3.7/dist-packages/sklearn/utils/validation.py:985: DataConversionWarning: A column-vector y was passed when a 1d array was expected. Please change the shape of y to (n_samples, ), for example using ravel().\n",
            "  y = column_or_1d(y, warn=True)\n",
            "/usr/local/lib/python3.7/dist-packages/sklearn/feature_selection/_univariate_selection.py:113: RuntimeWarning: divide by zero encountered in true_divide\n",
            "  f = msb / msw\n"
          ]
        }
      ]
    },
    {
      "cell_type": "code",
      "metadata": {
        "colab": {
          "base_uri": "https://localhost:8080/"
        },
        "outputId": "f8a11465-a874-4efd-9d9d-915f3526a7a3",
        "id": "wkfFbpxDSZVZ"
      },
      "source": [
        "# shape가 어떻게 변화되었는지 확인한다. 특성이 58개에서 29개로 감소했다.\n",
        "print(\"X_train.shape\", X_train_.shape)\n",
        "print(\"X_train_selected.shape\", X_train_selected_.shape)"
      ],
      "execution_count": 39,
      "outputs": [
        {
          "output_type": "stream",
          "name": "stdout",
          "text": [
            "X_train.shape (5757, 58)\n",
            "X_train_selected.shape (5757, 29)\n"
          ]
        }
      ]
    },
    {
      "cell_type": "code",
      "metadata": {
        "colab": {
          "base_uri": "https://localhost:8080/"
        },
        "outputId": "892eefa3-0d40-4564-d8be-c3144b0ca23b",
        "id": "hT7cv8rnSZVa"
      },
      "source": [
        "# 어떤 특성이 선택되었는지 확인한다.\n",
        "mask = select.get_support()\n",
        "print(mask)"
      ],
      "execution_count": 40,
      "outputs": [
        {
          "output_type": "stream",
          "name": "stdout",
          "text": [
            "[ True  True False  True  True  True  True  True  True False  True False\n",
            "  True False False  True  True  True  True False  True False False False\n",
            "  True  True  True  True  True False  True  True False False False False\n",
            " False False  True False False False False False  True False False False\n",
            " False False False  True  True  True  True  True False False]\n"
          ]
        }
      ]
    },
    {
      "cell_type": "code",
      "metadata": {
        "colab": {
          "base_uri": "https://localhost:8080/",
          "height": 92
        },
        "outputId": "7b153319-257c-4244-af3f-08f5f467e248",
        "id": "QnKLKrCNSZVb"
      },
      "source": [
        "# 위 마스크를 시각화한다. 선택된 특성은 대부분 원본 특성이고 노이즈 특성이 거의 모두 제거되었다.\n",
        "plt.matshow(mask.reshape(1, -1), cmap='gray_r')\n",
        "plt.xlabel(\"feature number\")\n",
        "plt.yticks([0])"
      ],
      "execution_count": 41,
      "outputs": [
        {
          "output_type": "execute_result",
          "data": {
            "text/plain": [
              "([<matplotlib.axis.YTick at 0x7f4114a0fbd0>],\n",
              " <a list of 1 Text major ticklabel objects>)"
            ]
          },
          "metadata": {},
          "execution_count": 41
        },
        {
          "output_type": "display_data",
          "data": {
            "image/png": "[encoded data removed]",
            "text/plain": [
              "<Figure size 1152x144 with 1 Axes>"
            ]
          },
          "metadata": {
            "needs_background": "light"
          }
        }
      ]
    },
    {
      "cell_type": "code",
      "metadata": {
        "colab": {
          "base_uri": "https://localhost:8080/"
        },
        "outputId": "d90a7a66-5e9d-4873-e61a-4b5eeb970242",
        "id": "e7MTfer3SZVc"
      },
      "source": [
        "from sklearn.linear_model import LogisticRegression\n",
        "\n",
        "# 테스트 데이터를 변환한다.\n",
        "X_test_selected_ = select.transform(X_test_)\n",
        "\n",
        "# LogisticRegression모델을 생성하고 원본 데이터에 훈련시킨 성능과 중요한 특성들이 선택된 데이터에 훈련시킨 성능을 비교한다.\n",
        "lr = LogisticRegression(max_iter=1000)\n",
        "lr.fit(X_train_, y_train_)\n",
        "print(\"전체 특성을 사용한 정확도\", lr.score(X_test_, y_test_))\n",
        "lr.fit(X_train_selected_, y_train_)\n",
        "print(\"선택된 일부 특성을 사용한 정확도\", lr.score(X_test_selected_, y_test_))"
      ],
      "execution_count": 42,
      "outputs": [
        {
          "output_type": "stream",
          "name": "stderr",
          "text": [
            "/usr/local/lib/python3.7/dist-packages/sklearn/utils/validation.py:985: DataConversionWarning: A column-vector y was passed when a 1d array was expected. Please change the shape of y to (n_samples, ), for example using ravel().\n",
            "  y = column_or_1d(y, warn=True)\n"
          ]
        },
        {
          "output_type": "stream",
          "name": "stdout",
          "text": [
            "전체 특성을 사용한 정확도 0.53125\n",
            "선택된 일부 특성을 사용한 정확도 0.53125\n"
          ]
        },
        {
          "output_type": "stream",
          "name": "stderr",
          "text": [
            "/usr/local/lib/python3.7/dist-packages/sklearn/utils/validation.py:985: DataConversionWarning: A column-vector y was passed when a 1d array was expected. Please change the shape of y to (n_samples, ), for example using ravel().\n",
            "  y = column_or_1d(y, warn=True)\n"
          ]
        }
      ]
    },
    {
      "cell_type": "markdown",
      "metadata": {
        "id": "7FULtAAZSZVd"
      },
      "source": [
        "dataset에서 특성이 많아지면 많아질수록 모델은 더 복잡해지고, 과적합될 가능성도 올라간다. 따라서 새로운 특성을 추가하거나 고차원의 dataset를 사용하게 될 때는 이 중에서 유용한 특성들만 선택하고 나머지는 배제하는 것이 성능에 보다 도움이 된다. 그러나 본 dataset의 경우는 feature selection을 적용했을 때 score의 변화가 없었다. 따라서 위의 서술에 해당하는, '모델이 지나치게 복잡하거나 과적합된 경우' 가 아님을 알 수 있었다. feature selection을 적용해도 그 의미가 없기 때문에,  이후의 실험에서는 feature selection을 적용하지 않은 상태로 실험을 진행했다. "
      ]
    },
    {
      "cell_type": "markdown",
      "metadata": {
        "id": "85FTyRQYkQ71"
      },
      "source": [
        "## Decision Tree"
      ]
    },
    {
      "cell_type": "markdown",
      "metadata": {
        "id": "UQL3_ayVtgax"
      },
      "source": [
        "### Decision Tree default model\n",
        " * 모델 선정의 이유: 연속형, 범주형 데이터를 잘 분류하는 classifier model이기 때문에 decision tree를 선정했다. \n",
        " * parameter를 조작하지 않은 default model을 생성하고 훈련한다. 성능을 검증하는 지표로는 5-fold cross validation을 사용했다."
      ]
    },
    {
      "cell_type": "code",
      "metadata": {
        "colab": {
          "base_uri": "https://localhost:8080/"
        },
        "id": "_j96Zc8ltga5",
        "outputId": "c508fe00-b1a6-4f21-d4cb-dbaca28f012e"
      },
      "source": [
        "# Decision tree default model\n",
        "# https://scikit-learn.org/stable/modules/generated/sklearn.tree.DecisionTreeClassifier.html\n",
        "from sklearn.tree import DecisionTreeClassifier\n",
        "from sklearn.model_selection import cross_validate\n",
        "import numpy as np\n",
        "\n",
        "decTree = DecisionTreeClassifier(random_state=42)\n",
        "decTree.fit(X_train, y_train)\n",
        "cv_results = cross_validate(decTree, X_train, y_train, cv=5)\n",
        "\n",
        "print(np.mean(cv_results['test_score']))"
      ],
      "execution_count": 43,
      "outputs": [
        {
          "output_type": "stream",
          "name": "stdout",
          "text": [
            "0.7266182358411752\n"
          ]
        }
      ]
    },
    {
      "cell_type": "markdown",
      "metadata": {
        "id": "dWBLCMQ_wITs"
      },
      "source": [
        "### Decision Tree model trial and error\n",
        "\n",
        "여러 parameter를 변경시켜 실험해 보았다. random_state=42로 고정했다."
      ]
    },
    {
      "cell_type": "markdown",
      "source": [
        "* criterion=\"entropy\"\n",
        "* default model과 비교하면 성능이 다소 떨어진다."
      ],
      "metadata": {
        "id": "cMsGUJKf6ZDj"
      }
    },
    {
      "cell_type": "code",
      "metadata": {
        "colab": {
          "base_uri": "https://localhost:8080/"
        },
        "outputId": "dbf5abe8-7a65-4c7b-d1e8-13fbf1679517",
        "id": "EO5CazuBaPuz"
      },
      "source": [
        "# criterion=\"entropy\"\n",
        "from sklearn.tree import DecisionTreeClassifier\n",
        "from sklearn.model_selection import cross_validate\n",
        "\n",
        "decTree = DecisionTreeClassifier(criterion=\"entropy\",random_state=42)\n",
        "decTree.fit(X_train, y_train)\n",
        "cv_results = cross_validate(decTree, X_train, y_train, cv=5)\n",
        "\n",
        "print(np.mean(cv_results['test_score']))"
      ],
      "execution_count": 44,
      "outputs": [
        {
          "output_type": "stream",
          "name": "stdout",
          "text": [
            "0.7198682634258602\n"
          ]
        }
      ]
    },
    {
      "cell_type": "markdown",
      "source": [
        "* splitter=\"random\"\n",
        "* default model과 비교하면 성능이 다소 떨어진다."
      ],
      "metadata": {
        "id": "gFsmJiQ56ddL"
      }
    },
    {
      "cell_type": "code",
      "metadata": {
        "colab": {
          "base_uri": "https://localhost:8080/"
        },
        "outputId": "74822da1-c875-4df4-9105-82208e11f6c5",
        "id": "CuR8gwAjaY8q"
      },
      "source": [
        "# splitter=\"random\"\n",
        "from sklearn.tree import DecisionTreeClassifier\n",
        "from sklearn.model_selection import cross_validate\n",
        "\n",
        "decTree = DecisionTreeClassifier(splitter=\"random\",random_state=42)\n",
        "decTree.fit(X_train, y_train)\n",
        "cv_results = cross_validate(decTree, X_train, y_train, cv=5)\n",
        "\n",
        "print(np.mean(cv_results['test_score']))"
      ],
      "execution_count": 45,
      "outputs": [
        {
          "output_type": "stream",
          "name": "stdout",
          "text": [
            "0.7143148752384103\n"
          ]
        }
      ]
    },
    {
      "cell_type": "markdown",
      "source": [
        "* max_depth = 5\n",
        "* 숫자를 작게 할수록 score가 좋아지고 그 값은 5에서 최대이다. pruning의 효과로 보인다."
      ],
      "metadata": {
        "id": "kc7WO-FB6hiY"
      }
    },
    {
      "cell_type": "code",
      "metadata": {
        "colab": {
          "base_uri": "https://localhost:8080/"
        },
        "outputId": "f472e01d-20a5-4810-dfca-e8ad0a7e7049",
        "id": "NhRxvgRfaqOl"
      },
      "source": [
        "# max_depth = 5\n",
        "from sklearn.tree import DecisionTreeClassifier\n",
        "from sklearn.model_selection import cross_validate\n",
        "\n",
        "decTree = DecisionTreeClassifier(max_depth = 5, random_state=42)\n",
        "decTree.fit(X_train, y_train)\n",
        "cv_results = cross_validate(decTree, X_train, y_train, cv=5)\n",
        "\n",
        "print(np.mean(cv_results['test_score']))"
      ],
      "execution_count": 46,
      "outputs": [
        {
          "output_type": "stream",
          "name": "stdout",
          "text": [
            "0.7812167998612883\n"
          ]
        }
      ]
    },
    {
      "cell_type": "markdown",
      "source": [
        "* max_features = \"auto\"\n",
        "* max_features를 auto, sqrt, log2값으로 변경해 보았으나 눈에 띄는 변화는 없었다."
      ],
      "metadata": {
        "id": "E9OHSnZm6lrR"
      }
    },
    {
      "cell_type": "code",
      "metadata": {
        "colab": {
          "base_uri": "https://localhost:8080/"
        },
        "outputId": "21e1665a-d33b-4b32-fdd7-232734dbb165",
        "id": "YJzWsBCdeF-N"
      },
      "source": [
        "# max_features = \"auto\"\n",
        "from sklearn.tree import DecisionTreeClassifier\n",
        "from sklearn.model_selection import cross_validate\n",
        "\n",
        "decTree = DecisionTreeClassifier(max_features = \"auto\", random_state=42)\n",
        "decTree.fit(X_train, y_train)\n",
        "cv_results = cross_validate(decTree, X_train, y_train, cv=5)\n",
        "\n",
        "print(np.mean(cv_results['test_score']))"
      ],
      "execution_count": 47,
      "outputs": [
        {
          "output_type": "stream",
          "name": "stdout",
          "text": [
            "0.7260279235825412\n"
          ]
        }
      ]
    },
    {
      "cell_type": "markdown",
      "source": [
        "* max_leaf_nodes=23\n",
        "* 20 정도에서 좋은 값을 보여주어서 이를 기점으로 테스트했다. \n",
        "* 23일 때 score가 최대가 되고, 숫자가 커지면 score는 다시 줄어든다."
      ],
      "metadata": {
        "id": "zhIIhv1F6pwd"
      }
    },
    {
      "cell_type": "code",
      "metadata": {
        "colab": {
          "base_uri": "https://localhost:8080/"
        },
        "id": "RQTVB4c_8_eC",
        "outputId": "70b27f5c-bb10-4c75-8f2a-72c1501dd18b"
      },
      "source": [
        "# max_leaf_nodes=23\n",
        "from sklearn.tree import DecisionTreeClassifier\n",
        "from sklearn.model_selection import cross_validate\n",
        "\n",
        "decTree = DecisionTreeClassifier(max_leaf_nodes=23, random_state=42)\n",
        "decTree.fit(X_train, y_train)\n",
        "cv_results = cross_validate(decTree, X_train, y_train, cv=5)\n",
        "\n",
        "print(np.mean(cv_results['test_score']))"
      ],
      "execution_count": 48,
      "outputs": [
        {
          "output_type": "stream",
          "name": "stdout",
          "text": [
            "0.7816134282246496\n"
          ]
        }
      ]
    },
    {
      "cell_type": "markdown",
      "source": [
        "* min_impurity_decrease=0.0007\n",
        "* 0.001 정도 에서 좋은 값을 보여주어서 이를 기점으로 테스트했다. \n",
        "* 0.007일 때 score가 최대가 되고, 숫자가 커지면 다시 줄어든다."
      ],
      "metadata": {
        "id": "7sAqjpYw6u-K"
      }
    },
    {
      "cell_type": "code",
      "metadata": {
        "colab": {
          "base_uri": "https://localhost:8080/"
        },
        "outputId": "dddf2276-fcba-4c35-f5a7-9de716e074a8",
        "id": "tXEzjVLZecgl"
      },
      "source": [
        "# min_impurity_decrease=0.0007\n",
        "from sklearn.tree import DecisionTreeClassifier\n",
        "from sklearn.model_selection import cross_validate\n",
        "\n",
        "decTree = DecisionTreeClassifier(min_impurity_decrease=0.0007, random_state=42)\n",
        "decTree.fit(X_train, y_train)\n",
        "cv_results = cross_validate(decTree, X_train, y_train, cv=5)\n",
        "\n",
        "print(np.mean(cv_results['test_score']))"
      ],
      "execution_count": 49,
      "outputs": [
        {
          "output_type": "stream",
          "name": "stdout",
          "text": [
            "0.7830036963477877\n"
          ]
        }
      ]
    },
    {
      "cell_type": "markdown",
      "source": [
        "* 단일 parameter 변경 중 score가 0.78이상으로 나온 항목들을 mix해보았는데, 더 좋은 결과가 나오지는 않았다."
      ],
      "metadata": {
        "id": "EwRhH29l6y6B"
      }
    },
    {
      "cell_type": "code",
      "metadata": {
        "colab": {
          "base_uri": "https://localhost:8080/"
        },
        "id": "NersbUxtwITt",
        "outputId": "6f887981-7827-4e7c-b91e-115b65cf3aca"
      },
      "source": [
        "# mixture\n",
        "from sklearn.tree import DecisionTreeClassifier\n",
        "from sklearn.model_selection import cross_validate\n",
        "\n",
        "decTree = DecisionTreeClassifier(min_impurity_decrease=0.0007, max_leaf_nodes=23, max_depth=5, random_state=42)\n",
        "decTree.fit(X_train, y_train)\n",
        "cv_results = cross_validate(decTree, X_train, y_train, cv=5)\n",
        "\n",
        "print(np.mean(cv_results['test_score']))"
      ],
      "execution_count": 50,
      "outputs": [
        {
          "output_type": "stream",
          "name": "stdout",
          "text": [
            "0.781613822291578\n"
          ]
        }
      ]
    },
    {
      "cell_type": "markdown",
      "metadata": {
        "id": "hpXl2SW45Sea"
      },
      "source": [
        "### Decision tree final model\n",
        "실험 결과, min_impurity_decrease=0.0007 로 설정한 모델에서 최상의 성능이 나왔다."
      ]
    },
    {
      "cell_type": "code",
      "metadata": {
        "colab": {
          "base_uri": "https://localhost:8080/"
        },
        "outputId": "c32e1619-b4ee-4890-eef7-84ecfdf9e5a4",
        "id": "Y4P3Ub_uf3ha"
      },
      "source": [
        "# min_impurity_decrease=0.0007\n",
        "# 0.001 정도 에서 좋은 값을 보여주어서 이를 기점으로 테스트했다. \n",
        "# 0.007일 때 score가 최대가 되고, 숫자가 커지면 다시 줄어든다.\n",
        "from sklearn.tree import DecisionTreeClassifier\n",
        "from sklearn.model_selection import cross_validate\n",
        "\n",
        "decTree = DecisionTreeClassifier(min_impurity_decrease=0.0007, random_state=42)\n",
        "decTree.fit(X_train, y_train)\n",
        "cv_results = cross_validate(decTree, X_train, y_train, cv=5)\n",
        "\n",
        "print(np.mean(cv_results['test_score']))"
      ],
      "execution_count": 51,
      "outputs": [
        {
          "output_type": "stream",
          "name": "stdout",
          "text": [
            "0.7830036963477877\n"
          ]
        }
      ]
    },
    {
      "cell_type": "markdown",
      "metadata": {
        "id": "Flmj6kiDXvWv"
      },
      "source": [
        "## KNN"
      ]
    },
    {
      "cell_type": "markdown",
      "metadata": {
        "id": "l4ZLKzg9rsg_"
      },
      "source": [
        "### KNN default model\n",
        "* 모델 선정의 이유: 간단하고 효율적이라는 장점 때문에 knn을 선정했다. \n",
        "* parameter를 조작하지 않은 default model을 생성하고 훈련한다. 성능을 검증하는 지표로는 5-fold cross validation을 사용했다."
      ]
    },
    {
      "cell_type": "code",
      "metadata": {
        "colab": {
          "base_uri": "https://localhost:8080/"
        },
        "outputId": "1e35623d-a206-481a-da18-78ac0c1a5c81",
        "id": "sVCtAHGmkkRl"
      },
      "source": [
        "# build and train KNN model\n",
        "# https://scikit-learn.org/stable/modules/generated/sklearn.neighbors.KNeighborsClassifier.html\n",
        "from sklearn.neighbors import KNeighborsClassifier\n",
        "from sklearn.model_selection import cross_validate\n",
        "from sklearn import svm\n",
        "import numpy as np\n",
        "\n",
        "knn = KNeighborsClassifier()\n",
        "knn.fit(X_train, y_train)\n",
        "cv_results = cross_validate(knn, X_train, y_train.values.ravel(), cv=5)\n",
        "\n",
        "print(np.mean(cv_results['test_score']))"
      ],
      "execution_count": 52,
      "outputs": [
        {
          "output_type": "stream",
          "name": "stderr",
          "text": [
            "/usr/local/lib/python3.7/dist-packages/sklearn/neighbors/_classification.py:198: DataConversionWarning: A column-vector y was passed when a 1d array was expected. Please change the shape of y to (n_samples,), for example using ravel().\n",
            "  return self._fit(X, y)\n"
          ]
        },
        {
          "output_type": "stream",
          "name": "stdout",
          "text": [
            "0.5989732586182438\n"
          ]
        }
      ]
    },
    {
      "cell_type": "markdown",
      "metadata": {
        "id": "PXCIuTHvzBDT"
      },
      "source": [
        "### KNN model trial and error\n",
        "\n",
        "parameter를 조작하지 않은 default model을 생성하고 훈련한다. 5-fold cross validation을 통해 default model의 성능을 검증한다."
      ]
    },
    {
      "cell_type": "markdown",
      "source": [
        "* n_neighbors=200\n",
        "* 200 정도에서 좋은 값을 보여주었다."
      ],
      "metadata": {
        "id": "-MYaxSzU51Kh"
      }
    },
    {
      "cell_type": "code",
      "metadata": {
        "colab": {
          "base_uri": "https://localhost:8080/"
        },
        "outputId": "8fb44d1c-5f28-4e74-eb59-7fafcd9c58f7",
        "id": "FmNjSw3Klqze"
      },
      "source": [
        "# n_neighbors=200\n",
        "from sklearn.neighbors import KNeighborsClassifier\n",
        "from sklearn.model_selection import cross_validate\n",
        "import numpy as np\n",
        "\n",
        "knn = KNeighborsClassifier(n_neighbors=200)\n",
        "knn.fit(X_train, y_train)\n",
        "cv_results = cross_validate(knn, X_train, y_train.values.ravel(), cv=5)\n",
        "\n",
        "print(np.mean(cv_results['test_score']))"
      ],
      "execution_count": 53,
      "outputs": [
        {
          "output_type": "stream",
          "name": "stderr",
          "text": [
            "/usr/local/lib/python3.7/dist-packages/sklearn/neighbors/_classification.py:198: DataConversionWarning: A column-vector y was passed when a 1d array was expected. Please change the shape of y to (n_samples,), for example using ravel().\n",
            "  return self._fit(X, y)\n"
          ]
        },
        {
          "output_type": "stream",
          "name": "stdout",
          "text": [
            "0.654159770495421\n"
          ]
        }
      ]
    },
    {
      "cell_type": "markdown",
      "source": [
        "* weights='distance'\n",
        "* default model에서의 score값이 상당히 좋지 않았기 때문에 n_neighbors=200의 값으로 다른 parameter들을 테스트했다. \n",
        "* weights를 distance값으로 바꾸어 보았으나, 성능은 오히려 소폭 감소하였다."
      ],
      "metadata": {
        "id": "IxiDaHU455Ln"
      }
    },
    {
      "cell_type": "code",
      "metadata": {
        "colab": {
          "base_uri": "https://localhost:8080/"
        },
        "outputId": "d2e95140-19c5-41d3-b959-2755093e591a",
        "id": "GkuL8ZGElq-X"
      },
      "source": [
        "# weights='distance'\n",
        "from sklearn.neighbors import KNeighborsClassifier\n",
        "from sklearn.model_selection import cross_validate\n",
        "import numpy as np\n",
        "\n",
        "knn = KNeighborsClassifier(n_neighbors=200, weights='distance')\n",
        "knn.fit(X_train, y_train)\n",
        "cv_results = cross_validate(knn, X_train, y_train.values.ravel(), cv=5)\n",
        "\n",
        "print(np.mean(cv_results['test_score']))"
      ],
      "execution_count": 54,
      "outputs": [
        {
          "output_type": "stream",
          "name": "stderr",
          "text": [
            "/usr/local/lib/python3.7/dist-packages/sklearn/neighbors/_classification.py:198: DataConversionWarning: A column-vector y was passed when a 1d array was expected. Please change the shape of y to (n_samples,), for example using ravel().\n",
            "  return self._fit(X, y)\n"
          ]
        },
        {
          "output_type": "stream",
          "name": "stdout",
          "text": [
            "0.6188214246307593\n"
          ]
        }
      ]
    },
    {
      "cell_type": "markdown",
      "source": [
        "* algorithm='brute'\n",
        "* algorithm을 'ball_tree', 'kd_tree', 'brute'로 바꾸어 보았으나 변화가 없었다. "
      ],
      "metadata": {
        "id": "RXFCNZPC6Ac1"
      }
    },
    {
      "cell_type": "code",
      "metadata": {
        "colab": {
          "base_uri": "https://localhost:8080/"
        },
        "outputId": "be4925db-bfec-43a0-c7a6-7cea21b9468a",
        "id": "-eW0_oQHFiTp"
      },
      "source": [
        "# algorithm='brute'\n",
        "from sklearn.neighbors import KNeighborsClassifier\n",
        "from sklearn.model_selection import cross_validate\n",
        "import numpy as np\n",
        "\n",
        "knn = KNeighborsClassifier(n_neighbors=200, weights='distance', algorithm='brute' )\n",
        "knn.fit(X_train, y_train)\n",
        "cv_results = cross_validate(knn, X_train, y_train.values.ravel(), cv=5)\n",
        "\n",
        "print(np.mean(cv_results['test_score']))"
      ],
      "execution_count": 55,
      "outputs": [
        {
          "output_type": "stream",
          "name": "stderr",
          "text": [
            "/usr/local/lib/python3.7/dist-packages/sklearn/neighbors/_classification.py:198: DataConversionWarning: A column-vector y was passed when a 1d array was expected. Please change the shape of y to (n_samples,), for example using ravel().\n",
            "  return self._fit(X, y)\n"
          ]
        },
        {
          "output_type": "stream",
          "name": "stdout",
          "text": [
            "0.6188214246307593\n"
          ]
        }
      ]
    },
    {
      "cell_type": "markdown",
      "source": [
        "* p=1\n",
        "* default model에서의 score값 상당히 좋지 않았기 때문에 n_neighbors=200의 값으로 다른 parameter들을 테스트했다. \n",
        "* p값을 1로 바꾸었을 때 성능이 소폭 상승했다."
      ],
      "metadata": {
        "id": "MfYcjeOC6JdE"
      }
    },
    {
      "cell_type": "code",
      "metadata": {
        "colab": {
          "base_uri": "https://localhost:8080/"
        },
        "outputId": "3a4b77ca-8937-42df-8e06-1e2d1cff8ea9",
        "id": "DKo9_5l6F-0m"
      },
      "source": [
        "# p=1\n",
        "from sklearn.neighbors import KNeighborsClassifier\n",
        "from sklearn.model_selection import cross_validate\n",
        "import numpy as np\n",
        "\n",
        "knn = KNeighborsClassifier(n_neighbors=200, p=1)\n",
        "knn.fit(X_train, y_train)\n",
        "cv_results = cross_validate(knn, X_train, y_train.values.ravel(), cv=5)\n",
        "\n",
        "print(np.mean(cv_results['test_score']))"
      ],
      "execution_count": 56,
      "outputs": [
        {
          "output_type": "stream",
          "name": "stderr",
          "text": [
            "/usr/local/lib/python3.7/dist-packages/sklearn/neighbors/_classification.py:198: DataConversionWarning: A column-vector y was passed when a 1d array was expected. Please change the shape of y to (n_samples,), for example using ravel().\n",
            "  return self._fit(X, y)\n"
          ]
        },
        {
          "output_type": "stream",
          "name": "stdout",
          "text": [
            "0.6551522280544128\n"
          ]
        }
      ]
    },
    {
      "cell_type": "markdown",
      "source": [
        "* leaf_size=10\n",
        "* default model에서의 score값 상당히 좋지 않았기 때문에 n_neighbors=200의 값으로 다른 parameter들을 테스트했다. \n",
        "* leaf size에 여러 숫자를 넣어서 바꾸어 보았으나 변화가 없었다."
      ],
      "metadata": {
        "id": "300DAQ206N2c"
      }
    },
    {
      "cell_type": "code",
      "metadata": {
        "colab": {
          "base_uri": "https://localhost:8080/"
        },
        "outputId": "d37edcdb-ef60-402d-ad83-9e4d7bac4ea8",
        "id": "BnFhohYUGiiC"
      },
      "source": [
        "# leaf_size=10\n",
        "from sklearn.neighbors import KNeighborsClassifier\n",
        "from sklearn.model_selection import cross_validate\n",
        "import numpy as np\n",
        "\n",
        "knn = KNeighborsClassifier(n_neighbors=200, leaf_size=10)\n",
        "knn.fit(X_train, y_train)\n",
        "cv_results = cross_validate(knn, X_train, y_train.values.ravel(), cv=5)\n",
        "\n",
        "print(np.mean(cv_results['test_score']))"
      ],
      "execution_count": 57,
      "outputs": [
        {
          "output_type": "stream",
          "name": "stderr",
          "text": [
            "/usr/local/lib/python3.7/dist-packages/sklearn/neighbors/_classification.py:198: DataConversionWarning: A column-vector y was passed when a 1d array was expected. Please change the shape of y to (n_samples,), for example using ravel().\n",
            "  return self._fit(X, y)\n"
          ]
        },
        {
          "output_type": "stream",
          "name": "stdout",
          "text": [
            "0.654159770495421\n"
          ]
        }
      ]
    },
    {
      "cell_type": "markdown",
      "source": [
        "* n_jobs=-1\n",
        "* default model에서의 score값 상당히 좋지 않았기 때문에 n_neighbors=200의 값으로 다른 parameter들을 테스트했다. \n",
        "* n_jobs의 값을 -1로 변경해 보았으나 변화가 없었다."
      ],
      "metadata": {
        "id": "LMPcPuvM6Rx8"
      }
    },
    {
      "cell_type": "code",
      "metadata": {
        "colab": {
          "base_uri": "https://localhost:8080/"
        },
        "outputId": "7d8f4801-d497-43fa-e21f-0b22c7e4a5ce",
        "id": "yk0FeOvFG6Jx"
      },
      "source": [
        "# n_jobs=-1\n",
        "from sklearn.neighbors import KNeighborsClassifier\n",
        "from sklearn.model_selection import cross_validate\n",
        "import numpy as np\n",
        "\n",
        "knn = KNeighborsClassifier(n_neighbors=200, n_jobs=-1)\n",
        "knn.fit(X_train, y_train)\n",
        "cv_results = cross_validate(knn, X_train, y_train.values.ravel(), cv=5)\n",
        "\n",
        "print(np.mean(cv_results['test_score']))"
      ],
      "execution_count": 58,
      "outputs": [
        {
          "output_type": "stream",
          "name": "stderr",
          "text": [
            "/usr/local/lib/python3.7/dist-packages/sklearn/neighbors/_classification.py:198: DataConversionWarning: A column-vector y was passed when a 1d array was expected. Please change the shape of y to (n_samples,), for example using ravel().\n",
            "  return self._fit(X, y)\n"
          ]
        },
        {
          "output_type": "stream",
          "name": "stdout",
          "text": [
            "0.654159770495421\n"
          ]
        }
      ]
    },
    {
      "cell_type": "markdown",
      "metadata": {
        "id": "2YGPB8M1oCPU"
      },
      "source": [
        "### KNN final model\n",
        "실험 결과, n_neighbors=200, p=1 로 설정한 모델에서 최상의 성능이 나왔다. "
      ]
    },
    {
      "cell_type": "code",
      "metadata": {
        "colab": {
          "base_uri": "https://localhost:8080/"
        },
        "outputId": "f3a16709-f0ce-44a9-d03a-d6f46603afbd",
        "id": "odj5fQ6ZKqZn"
      },
      "source": [
        "# p=1\n",
        "# default model에서의 score값 상당히 좋지 않았기 때문에 n_neighbors=200의 값으로 다른 parameter들을 테스트했다. \n",
        "# p값을 1로 바꾸었을 때 성능이 소폭 상승했다.\n",
        "from sklearn.neighbors import KNeighborsClassifier\n",
        "from sklearn.model_selection import cross_validate\n",
        "import numpy as np\n",
        "\n",
        "knn = KNeighborsClassifier(n_neighbors=200, p=1)\n",
        "knn.fit(X_train, y_train)\n",
        "cv_results = cross_validate(knn, X_train, y_train.values.ravel(), cv=5)\n",
        "\n",
        "print(np.mean(cv_results['test_score']))"
      ],
      "execution_count": 59,
      "outputs": [
        {
          "output_type": "stream",
          "name": "stderr",
          "text": [
            "/usr/local/lib/python3.7/dist-packages/sklearn/neighbors/_classification.py:198: DataConversionWarning: A column-vector y was passed when a 1d array was expected. Please change the shape of y to (n_samples,), for example using ravel().\n",
            "  return self._fit(X, y)\n"
          ]
        },
        {
          "output_type": "stream",
          "name": "stdout",
          "text": [
            "0.6551522280544128\n"
          ]
        }
      ]
    },
    {
      "cell_type": "markdown",
      "metadata": {
        "id": "3IUlo699kQSF"
      },
      "source": [
        "## MLP"
      ]
    },
    {
      "cell_type": "markdown",
      "metadata": {
        "id": "vXqdmvwgr4s9"
      },
      "source": [
        "### MLP default model\n",
        "* 모델 선정의 이유: non-linear 상황에서도 유연하게 잘 동작한다는 특성 때문에 mlp를 선정했다.\n",
        "* parameter를 조작하지 않은 default model을 생성하고 훈련한다. 5-fold cross validation을 통해 default model의 성능을 검증한다."
      ]
    },
    {
      "cell_type": "code",
      "metadata": {
        "id": "_ezxOlKTf49X",
        "colab": {
          "base_uri": "https://localhost:8080/"
        },
        "outputId": "95f7dcbd-e9b3-45e0-acb7-b0e523a5736d"
      },
      "source": [
        "# MLP\n",
        "# https://scikit-learn.org/stable/modules/generated/sklearn.neural_network.MLPClassifier.html\n",
        "from sklearn.neural_network import MLPClassifier\n",
        "from sklearn.model_selection import cross_validate\n",
        "\n",
        "mlp = MLPClassifier(random_state=42)\n",
        "mlp.fit(X_train, y_train.values.ravel())\n",
        "cv_results = cross_validate(mlp, X_train, y_train.values.ravel(), cv=5)\n",
        "\n",
        "print(np.mean(cv_results['test_score']))"
      ],
      "execution_count": 60,
      "outputs": [
        {
          "output_type": "stream",
          "name": "stdout",
          "text": [
            "0.5384158115414321\n"
          ]
        }
      ]
    },
    {
      "cell_type": "markdown",
      "metadata": {
        "id": "52NQOc-20PJI"
      },
      "source": [
        "### MLP model trial and error\n",
        "parameter를 조작하지 않은 default model을 생성하고 훈련한다. 5-fold cross validation을 통해 default model의 성능을 검증한다."
      ]
    },
    {
      "cell_type": "markdown",
      "source": [
        "* hidden_layer_sizes=(1000,)\n",
        "* 1000으로 늘렸을 때 성능에 소폭 상승이 있었으나 미미했고, 이 이상으로 늘리면 실행 시간이 너무 오래 걸려서 테스트하지 않았다. "
      ],
      "metadata": {
        "id": "vc0osSyr5W0U"
      }
    },
    {
      "cell_type": "code",
      "metadata": {
        "colab": {
          "base_uri": "https://localhost:8080/"
        },
        "id": "Vnj0HeLs0PJJ",
        "outputId": "f29c8cdb-9694-4676-b67f-bf6f7d4199e4"
      },
      "source": [
        "# hidden_layer_sizes=(1000,)\n",
        "from sklearn.neural_network import MLPClassifier\n",
        "from sklearn.model_selection import cross_validate\n",
        "\n",
        "mlp = MLPClassifier(hidden_layer_sizes=(1000,), random_state=42)\n",
        "mlp.fit(X_train, y_train.values.ravel())\n",
        "cv_results = cross_validate(mlp, X_train, y_train.values.ravel(), cv=5)\n",
        "\n",
        "print(np.mean(cv_results['test_score']))"
      ],
      "execution_count": 61,
      "outputs": [
        {
          "output_type": "stream",
          "name": "stdout",
          "text": [
            "0.5402027080279315\n"
          ]
        }
      ]
    },
    {
      "cell_type": "markdown",
      "source": [
        "* max_iter=1000\n",
        "* default 값 200에서 늘이거나 줄여 보았으나, 성능의 향상은 없었다."
      ],
      "metadata": {
        "id": "W_TcNCo_5fJn"
      }
    },
    {
      "cell_type": "code",
      "metadata": {
        "colab": {
          "base_uri": "https://localhost:8080/"
        },
        "id": "4jNsBD8eFVOD",
        "outputId": "a3041f19-19ec-4d98-de8f-3aacb5ef441e"
      },
      "source": [
        "# max_iter=1000\n",
        "from sklearn.neural_network import MLPClassifier\n",
        "from sklearn.model_selection import cross_validate\n",
        "\n",
        "mlp = MLPClassifier(max_iter=1000, random_state=42)\n",
        "mlp.fit(X_train, y_train.values.ravel())\n",
        "cv_results = cross_validate(mlp, X_train, y_train.values.ravel(), cv=5)\n",
        "\n",
        "print(np.mean(cv_results['test_score']))"
      ],
      "execution_count": 62,
      "outputs": [
        {
          "output_type": "stream",
          "name": "stdout",
          "text": [
            "0.5384158115414321\n"
          ]
        }
      ]
    },
    {
      "cell_type": "markdown",
      "source": [
        "* activation='logistic'\n",
        "* activation 값을 default relu값을 제외하고 identity, logistic, tanh으로 바꾸어 보았다. logistic에서 가장 좋은 성능이 나왔다."
      ],
      "metadata": {
        "id": "J02EZ1pq5jOP"
      }
    },
    {
      "cell_type": "code",
      "metadata": {
        "colab": {
          "base_uri": "https://localhost:8080/"
        },
        "id": "ns3XGWXrFVXt",
        "outputId": "27f3b975-3469-42ee-a885-c65ce6331321"
      },
      "source": [
        "# activation='logistic'\n",
        "from sklearn.neural_network import MLPClassifier\n",
        "from sklearn.model_selection import cross_validate\n",
        "\n",
        "mlp = MLPClassifier(random_state=42, activation='logistic')\n",
        "mlp.fit(X_train, y_train.values.ravel())\n",
        "cv_results = cross_validate(mlp, X_train, y_train.values.ravel(), cv=5)\n",
        "\n",
        "print(np.mean(cv_results['test_score']))"
      ],
      "execution_count": 63,
      "outputs": [
        {
          "output_type": "stream",
          "name": "stdout",
          "text": [
            "0.5400040982960546\n"
          ]
        }
      ]
    },
    {
      "cell_type": "markdown",
      "source": [
        "* learning_rate='invscaling'\n",
        "* learning rate를 invscaling, adaptive로 변경해 보았으나 성능의 상승은 없었다."
      ],
      "metadata": {
        "id": "IP4phh395ov7"
      }
    },
    {
      "cell_type": "code",
      "metadata": {
        "colab": {
          "base_uri": "https://localhost:8080/"
        },
        "id": "pU-gEvkJLT4j",
        "outputId": "a655c3d1-efdb-41cf-d864-a157aa40fb6e"
      },
      "source": [
        "# learning_rate='invscaling'\n",
        "from sklearn.neural_network import MLPClassifier\n",
        "from sklearn.model_selection import cross_validate\n",
        "\n",
        "mlp = MLPClassifier(learning_rate='adaptive', random_state=42)\n",
        "mlp.fit(X_train, y_train.values.ravel())\n",
        "cv_results = cross_validate(mlp, X_train, y_train.values.ravel(), cv=5)\n",
        "\n",
        "print(np.mean(cv_results['test_score']))"
      ],
      "execution_count": 64,
      "outputs": [
        {
          "output_type": "stream",
          "name": "stdout",
          "text": [
            "0.5384158115414321\n"
          ]
        }
      ]
    },
    {
      "cell_type": "markdown",
      "source": [
        "* alpha=0.1\n",
        "* alpha 값을 변경해 보았지만 변화는 없었다."
      ],
      "metadata": {
        "id": "JnKTHhoi5n7c"
      }
    },
    {
      "cell_type": "code",
      "metadata": {
        "colab": {
          "base_uri": "https://localhost:8080/"
        },
        "id": "xYRnboGWD1lG",
        "outputId": "62e66fe1-c1f3-4867-d44e-6ee3a637f990"
      },
      "source": [
        "# alpha=0.1\n",
        "from sklearn.neural_network import MLPClassifier\n",
        "from sklearn.model_selection import cross_validate\n",
        "\n",
        "mlp = MLPClassifier(alpha=0.0001, random_state=42)\n",
        "mlp.fit(X_train, y_train.values.ravel())\n",
        "cv_results = cross_validate(mlp, X_train, y_train.values.ravel(), cv=5)\n",
        "\n",
        "print(np.mean(cv_results['test_score']))"
      ],
      "execution_count": 65,
      "outputs": [
        {
          "output_type": "stream",
          "name": "stdout",
          "text": [
            "0.5384158115414321\n"
          ]
        }
      ]
    },
    {
      "cell_type": "markdown",
      "metadata": {
        "id": "Z5WR6lPlDL6b"
      },
      "source": [
        "### MLP final model\n",
        "실험 결과, hidden_layer_sizes=(1000,)으로 설정한 모델에서 최상의 성능이 나왔다. "
      ]
    },
    {
      "cell_type": "code",
      "metadata": {
        "colab": {
          "base_uri": "https://localhost:8080/"
        },
        "outputId": "5c91c2ab-e3f4-4b60-80af-f10dfeb77bcf",
        "id": "L_2oCV79WURh"
      },
      "source": [
        "from sklearn.neural_network import MLPClassifier\n",
        "from sklearn.model_selection import cross_validate\n",
        "\n",
        "mlp = MLPClassifier(hidden_layer_sizes=(1000,), random_state=42)\n",
        "mlp.fit(X_train, y_train.values.ravel())\n",
        "cv_results = cross_validate(mlp, X_train, y_train.values.ravel(), cv=5)\n",
        "\n",
        "print(np.mean(cv_results['test_score']))"
      ],
      "execution_count": 66,
      "outputs": [
        {
          "output_type": "stream",
          "name": "stdout",
          "text": [
            "0.5402027080279315\n"
          ]
        }
      ]
    },
    {
      "cell_type": "markdown",
      "metadata": {
        "id": "zF62rmH08iYs"
      },
      "source": [
        "## Ensemble Model: Random Forest"
      ]
    },
    {
      "cell_type": "markdown",
      "metadata": {
        "id": "2CSCOXHmMiTi"
      },
      "source": [
        "### Random Forest default model\n",
        "* 모델 선정의 이유: decision tree가 단일 모델로 가장 좋은 성능을 보였기 때문에 이를 이용한 random forest를 ensemble model로 설정했다. \n",
        "* parameter를 조작하지 않은 default model을 생성하고 훈련한다. 성능을 검증하는 지표로는 5-fold cross validation을 사용했다. default model이 decision tree보다 훨씬 좋은 성능을 보임을 확인할 수 있었다. "
      ]
    },
    {
      "cell_type": "code",
      "metadata": {
        "id": "4Yb84ow07Kuq",
        "colab": {
          "base_uri": "https://localhost:8080/"
        },
        "outputId": "afb6c504-be10-4ada-f489-57aa3ab3d36a"
      },
      "source": [
        "# Random Forest\n",
        "from sklearn.ensemble import RandomForestClassifier\n",
        "\n",
        "forest = RandomForestClassifier(random_state=42)\n",
        "forest.fit(X_train, y_train)\n",
        "cv_results = cross_validate(forest, X_train, y_train.values.ravel(), cv=5)\n",
        "\n",
        "print(np.mean(cv_results['test_score']))"
      ],
      "execution_count": 67,
      "outputs": [
        {
          "output_type": "stream",
          "name": "stderr",
          "text": [
            "/usr/local/lib/python3.7/dist-packages/ipykernel_launcher.py:5: DataConversionWarning: A column-vector y was passed when a 1d array was expected. Please change the shape of y to (n_samples,), for example using ravel().\n",
            "  \"\"\"\n"
          ]
        },
        {
          "output_type": "stream",
          "name": "stdout",
          "text": [
            "0.7967036301445438\n"
          ]
        }
      ]
    },
    {
      "cell_type": "markdown",
      "metadata": {
        "id": "D-97il9KNWNT"
      },
      "source": [
        "### Decision Tree model trial and error\n",
        "\n",
        "여러 parameter를 변경시켜 실험해 보았다. random_state=42로 고정했다."
      ]
    },
    {
      "cell_type": "code",
      "metadata": {
        "colab": {
          "base_uri": "https://localhost:8080/"
        },
        "outputId": "19ab701c-c8bb-4ff7-c0a7-3e92ac24e9d2",
        "id": "lclWKdNtNXe8"
      },
      "source": [
        "# n_estimators=1000\n",
        "# 트리 개수를 늘렸을 때 더 좋은 성능을 보였다. \n",
        "from sklearn.ensemble import RandomForestClassifier\n",
        "\n",
        "forest = RandomForestClassifier(n_estimators=1000, random_state=42)\n",
        "forest.fit(X_train, y_train)\n",
        "cv_results = cross_validate(forest, X_train, y_train.values.ravel(), cv=5)\n",
        "\n",
        "print(np.mean(cv_results['test_score']))"
      ],
      "execution_count": 68,
      "outputs": [
        {
          "output_type": "stream",
          "name": "stderr",
          "text": [
            "/usr/local/lib/python3.7/dist-packages/ipykernel_launcher.py:6: DataConversionWarning: A column-vector y was passed when a 1d array was expected. Please change the shape of y to (n_samples,), for example using ravel().\n",
            "  \n"
          ]
        },
        {
          "output_type": "stream",
          "name": "stdout",
          "text": [
            "0.7982927050330227\n"
          ]
        }
      ]
    },
    {
      "cell_type": "code",
      "metadata": {
        "colab": {
          "base_uri": "https://localhost:8080/"
        },
        "outputId": "170caa64-379b-4cab-e3fa-02afafdf3480",
        "id": "utygzw-kNZHK"
      },
      "source": [
        "# max_depth=8\n",
        "# max_depth는 8에서 좋은 성능을 보였다.\n",
        "from sklearn.ensemble import RandomForestClassifier\n",
        "\n",
        "forest = RandomForestClassifier(max_depth=8, random_state=42)\n",
        "forest.fit(X_train, y_train)\n",
        "cv_results = cross_validate(forest, X_train, y_train.values.ravel(), cv=5)\n",
        "\n",
        "print(np.mean(cv_results['test_score']))"
      ],
      "execution_count": 69,
      "outputs": [
        {
          "output_type": "stream",
          "name": "stderr",
          "text": [
            "/usr/local/lib/python3.7/dist-packages/ipykernel_launcher.py:6: DataConversionWarning: A column-vector y was passed when a 1d array was expected. Please change the shape of y to (n_samples,), for example using ravel().\n",
            "  \n"
          ]
        },
        {
          "output_type": "stream",
          "name": "stdout",
          "text": [
            "0.8020643196040416\n"
          ]
        }
      ]
    },
    {
      "cell_type": "code",
      "metadata": {
        "colab": {
          "base_uri": "https://localhost:8080/"
        },
        "outputId": "7ea8483b-19dd-4cc1-a1fc-46a35239d02b",
        "id": "2bEgGRD3NZaa"
      },
      "source": [
        "# min_samples_split=10\n",
        "from sklearn.ensemble import RandomForestClassifier\n",
        "\n",
        "forest = RandomForestClassifier(min_samples_split=10, random_state=42)\n",
        "forest.fit(X_train, y_train)\n",
        "cv_results = cross_validate(forest, X_train, y_train.values.ravel(), cv=5)\n",
        "\n",
        "print(np.mean(cv_results['test_score']))"
      ],
      "execution_count": 70,
      "outputs": [
        {
          "output_type": "stream",
          "name": "stderr",
          "text": [
            "/usr/local/lib/python3.7/dist-packages/ipykernel_launcher.py:5: DataConversionWarning: A column-vector y was passed when a 1d array was expected. Please change the shape of y to (n_samples,), for example using ravel().\n",
            "  \"\"\"\n"
          ]
        },
        {
          "output_type": "stream",
          "name": "stdout",
          "text": [
            "0.8096093220472564\n"
          ]
        }
      ]
    },
    {
      "cell_type": "code",
      "metadata": {
        "colab": {
          "base_uri": "https://localhost:8080/"
        },
        "outputId": "9e4082c5-64a0-4860-b32d-5cbb7adb135f",
        "id": "DjNzwfmHRqHT"
      },
      "source": [
        "# min_samples_leaf=4\n",
        "# 지금까지 테스트한 것 중 최고의 성능을 보여주었다.\n",
        "from sklearn.ensemble import RandomForestClassifier\n",
        "\n",
        "forest = RandomForestClassifier(min_samples_leaf=4, random_state=42)\n",
        "forest.fit(X_train, y_train)\n",
        "cv_results = cross_validate(forest, X_train, y_train.values.ravel(), cv=5)\n",
        "\n",
        "print(np.mean(cv_results['test_score']))"
      ],
      "execution_count": 71,
      "outputs": [
        {
          "output_type": "stream",
          "name": "stderr",
          "text": [
            "/usr/local/lib/python3.7/dist-packages/ipykernel_launcher.py:6: DataConversionWarning: A column-vector y was passed when a 1d array was expected. Please change the shape of y to (n_samples,), for example using ravel().\n",
            "  \n"
          ]
        },
        {
          "output_type": "stream",
          "name": "stdout",
          "text": [
            "0.8100091029460443\n"
          ]
        }
      ]
    },
    {
      "cell_type": "code",
      "metadata": {
        "colab": {
          "base_uri": "https://localhost:8080/"
        },
        "outputId": "7f2d28ac-8637-4d04-ecb7-59b9749735cf",
        "id": "qXNGeVjDR5AD"
      },
      "source": [
        "# max_leaf_nodes=100\n",
        "from sklearn.ensemble import RandomForestClassifier\n",
        "\n",
        "forest = RandomForestClassifier(max_leaf_nodes=100, random_state=42)\n",
        "forest.fit(X_train, y_train)\n",
        "cv_results = cross_validate(forest, X_train, y_train.values.ravel(), cv=5)\n",
        "\n",
        "print(np.mean(cv_results['test_score']))"
      ],
      "execution_count": 72,
      "outputs": [
        {
          "output_type": "stream",
          "name": "stderr",
          "text": [
            "/usr/local/lib/python3.7/dist-packages/ipykernel_launcher.py:5: DataConversionWarning: A column-vector y was passed when a 1d array was expected. Please change the shape of y to (n_samples,), for example using ravel().\n",
            "  \"\"\"\n"
          ]
        },
        {
          "output_type": "stream",
          "name": "stdout",
          "text": [
            "0.8046462461184408\n"
          ]
        }
      ]
    },
    {
      "cell_type": "code",
      "metadata": {
        "colab": {
          "base_uri": "https://localhost:8080/"
        },
        "outputId": "8c4d5345-79da-4627-8d5a-7461a70fb528",
        "id": "OFwFcKfJSG5V"
      },
      "source": [
        "# min_samples_leaf=4, min_samples_split=10\n",
        "# 좋은 성능을 보여 주었던 parameter를 함께 적용해 보았지만, 더 좋은 성능을 보여주지는 않았다.\n",
        "from sklearn.ensemble import RandomForestClassifier\n",
        "\n",
        "forest = RandomForestClassifier(min_samples_leaf=4, min_samples_split=10, random_state=42)\n",
        "forest.fit(X_train, y_train)\n",
        "cv_results = cross_validate(forest, X_train, y_train.values.ravel(), cv=5)\n",
        "\n",
        "print(np.mean(cv_results['test_score']))"
      ],
      "execution_count": 73,
      "outputs": [
        {
          "output_type": "stream",
          "name": "stderr",
          "text": [
            "/usr/local/lib/python3.7/dist-packages/ipykernel_launcher.py:6: DataConversionWarning: A column-vector y was passed when a 1d array was expected. Please change the shape of y to (n_samples,), for example using ravel().\n",
            "  \n"
          ]
        },
        {
          "output_type": "stream",
          "name": "stdout",
          "text": [
            "0.8082218123926168\n"
          ]
        }
      ]
    },
    {
      "cell_type": "markdown",
      "metadata": {
        "id": "OjKN_958TVo0"
      },
      "source": [
        "### Random Forest final model\n",
        "실험 결과, min_samples_leaf=4으로 설정한 모델에서 최상의 성능이 나왔다. "
      ]
    },
    {
      "cell_type": "code",
      "metadata": {
        "colab": {
          "base_uri": "https://localhost:8080/"
        },
        "outputId": "ff7c1ede-5363-4526-c35a-35444f83c24b",
        "id": "yW9VwrrrTRWr"
      },
      "source": [
        "from sklearn.ensemble import RandomForestClassifier\n",
        "\n",
        "forest = RandomForestClassifier(min_samples_leaf=4, random_state=42)\n",
        "forest.fit(X_train, y_train)\n",
        "cv_results = cross_validate(forest, X_train, y_train.values.ravel(), cv=5)\n",
        "\n",
        "print(np.mean(cv_results['test_score']))"
      ],
      "execution_count": 74,
      "outputs": [
        {
          "output_type": "stream",
          "name": "stderr",
          "text": [
            "/usr/local/lib/python3.7/dist-packages/ipykernel_launcher.py:4: DataConversionWarning: A column-vector y was passed when a 1d array was expected. Please change the shape of y to (n_samples,), for example using ravel().\n",
            "  after removing the cwd from sys.path.\n"
          ]
        },
        {
          "output_type": "stream",
          "name": "stdout",
          "text": [
            "0.8100091029460443\n"
          ]
        }
      ]
    },
    {
      "cell_type": "markdown",
      "metadata": {
        "id": "PGGeyaMUTUf9"
      },
      "source": [
        "# 5. 실험 결과 분석"
      ]
    },
    {
      "cell_type": "markdown",
      "source": [
        "실험 결과에 따라, 최종 모델을 random forest (min_samples_leaf=4)로 결정했다. 최종 모델에 대해 여러 가지 model evaluation 기법을 사용하여 평가해 보았다. "
      ],
      "metadata": {
        "id": "maaQh5nlU8wk"
      }
    },
    {
      "cell_type": "code",
      "metadata": {
        "colab": {
          "base_uri": "https://localhost:8080/"
        },
        "outputId": "e60c7bf9-eb0b-4ea8-df65-bc6d70c064b6",
        "id": "lfllCWmih-dz"
      },
      "source": [
        "from sklearn.ensemble import RandomForestClassifier\n",
        "\n",
        "forest = RandomForestClassifier(min_samples_leaf=4, random_state=42)\n",
        "forest.fit(X_train, y_train)\n",
        "cv_results = cross_validate(forest, X_train, y_train.values.ravel(), cv=5)\n",
        "\n",
        "print(np.mean(cv_results['test_score']))"
      ],
      "execution_count": 75,
      "outputs": [
        {
          "output_type": "stream",
          "name": "stderr",
          "text": [
            "/usr/local/lib/python3.7/dist-packages/ipykernel_launcher.py:4: DataConversionWarning: A column-vector y was passed when a 1d array was expected. Please change the shape of y to (n_samples,), for example using ravel().\n",
            "  after removing the cwd from sys.path.\n"
          ]
        },
        {
          "output_type": "stream",
          "name": "stdout",
          "text": [
            "0.8100091029460443\n"
          ]
        }
      ]
    },
    {
      "cell_type": "code",
      "source": [
        "y_pred = forest.predict(X_test)\n",
        "y_prob = forest.predict_proba(X_test)[:, 1]"
      ],
      "metadata": {
        "id": "GN-af9FSjhOJ"
      },
      "execution_count": 76,
      "outputs": []
    },
    {
      "cell_type": "code",
      "metadata": {
        "id": "1Nhd1oRGobsk",
        "outputId": "9b4050a3-3864-43aa-b56c-b97d8e4b9282",
        "colab": {
          "base_uri": "https://localhost:8080/",
          "height": 358
        }
      },
      "source": [
        "# confusion matrix를 시각화해서 출력해 보았다. \n",
        "from sklearn.metrics import plot_confusion_matrix\n",
        "\n",
        "plot_confusion_matrix(forest, X_test, y_test, normalize='all')"
      ],
      "execution_count": 77,
      "outputs": [
        {
          "output_type": "stream",
          "name": "stderr",
          "text": [
            "/usr/local/lib/python3.7/dist-packages/sklearn/utils/deprecation.py:87: FutureWarning: Function plot_confusion_matrix is deprecated; Function `plot_confusion_matrix` is deprecated in 1.0 and will be removed in 1.2. Use one of the class methods: ConfusionMatrixDisplay.from_predictions or ConfusionMatrixDisplay.from_estimator.\n",
            "  warnings.warn(msg, category=FutureWarning)\n"
          ]
        },
        {
          "output_type": "execute_result",
          "data": {
            "text/plain": [
              "<sklearn.metrics._plot.confusion_matrix.ConfusionMatrixDisplay at 0x7f411411cf90>"
            ]
          },
          "metadata": {},
          "execution_count": 77
        },
        {
          "output_type": "display_data",
          "data": {
            "image/png": "[encoded data removed]",
            "text/plain": [
              "<Figure size 432x288 with 2 Axes>"
            ]
          },
          "metadata": {
            "needs_background": "light"
          }
        }
      ]
    },
    {
      "cell_type": "code",
      "metadata": {
        "id": "lUe-l3yIs4qM"
      },
      "source": [
        "import seaborn as sns\n",
        "import matplotlib.pyplot as plt\n",
        "\n",
        "def plot_cm(labels, predictions):\n",
        "  cm = confusion_matrix(labels, predictions)\n",
        "  plt.figure(figsize=(5,5))\n",
        "  sns.heatmap(cm, annot=True, fmt=\"d\")\n",
        "  plt.title('Confusion matrix')\n",
        "  plt.ylabel('Actual label')\n",
        "  plt.xlabel('Predicted label')"
      ],
      "execution_count": 78,
      "outputs": []
    },
    {
      "cell_type": "code",
      "metadata": {
        "id": "6NFp0oXjSin8",
        "outputId": "b3d9a5a9-06d4-48d9-9f57-2def6aa9d4fd",
        "colab": {
          "base_uri": "https://localhost:8080/",
          "height": 350
        }
      },
      "source": [
        "from sklearn.metrics import classification_report, confusion_matrix\n",
        "plot_cm(y_test, y_pred)"
      ],
      "execution_count": 80,
      "outputs": [
        {
          "output_type": "display_data",
          "data": {
            "image/png": "[encoded data removed]",
            "text/plain": [
              "<Figure size 360x360 with 2 Axes>"
            ]
          },
          "metadata": {
            "needs_background": "light"
          }
        }
      ]
    },
    {
      "cell_type": "code",
      "metadata": {
        "id": "ztazmyZdnWqD",
        "colab": {
          "base_uri": "https://localhost:8080/",
          "height": 355
        },
        "outputId": "edf85817-3461-4c16-b5c7-ee262f1563df"
      },
      "source": [
        "# precision_recall_curve를 출력해 보았다.\n",
        "from sklearn.metrics import plot_precision_recall_curve\n",
        "\n",
        "plot_precision_recall_curve(forest, X_test, y_test)"
      ],
      "execution_count": 81,
      "outputs": [
        {
          "output_type": "stream",
          "name": "stderr",
          "text": [
            "/usr/local/lib/python3.7/dist-packages/sklearn/utils/deprecation.py:87: FutureWarning: Function plot_precision_recall_curve is deprecated; Function `plot_precision_recall_curve` is deprecated in 1.0 and will be removed in 1.2. Use one of the class methods: PrecisionRecallDisplay.from_predictions or PrecisionRecallDisplay.from_estimator.\n",
            "  warnings.warn(msg, category=FutureWarning)\n"
          ]
        },
        {
          "output_type": "execute_result",
          "data": {
            "text/plain": [
              "<sklearn.metrics._plot.precision_recall_curve.PrecisionRecallDisplay at 0x7f41120e3910>"
            ]
          },
          "metadata": {},
          "execution_count": 81
        },
        {
          "output_type": "display_data",
          "data": {
            "image/png": "[encoded data removed]",
            "text/plain": [
              "<Figure size 432x288 with 1 Axes>"
            ]
          },
          "metadata": {
            "needs_background": "light"
          }
        }
      ]
    },
    {
      "cell_type": "code",
      "metadata": {
        "id": "_xId3XzyrB0m"
      },
      "source": [
        "import matplotlib.pyplot as plt\n",
        "from sklearn.metrics import roc_curve\n",
        "\n",
        "def plot_roc(name, labels, predictions, **kwargs):\n",
        "  fp, tp, _ = roc_curve(labels, predictions)\n",
        "\n",
        "  plt.plot(100*fp, 100*tp, label=name, linewidth=2, **kwargs)\n",
        "  plt.xlabel('False positives [%]')\n",
        "  plt.ylabel('True positives [%]')\n",
        "  plt.xlim([0,100])\n",
        "  plt.ylim([0,100])\n",
        "  plt.grid(True)\n",
        "  ax = plt.gca()\n",
        "  ax.set_aspect('equal')"
      ],
      "execution_count": 82,
      "outputs": []
    },
    {
      "cell_type": "code",
      "metadata": {
        "id": "a4RQgX3pvoqi",
        "outputId": "a66b509b-4a51-46b9-b1c0-acd87e5a507b",
        "colab": {
          "base_uri": "https://localhost:8080/",
          "height": 283
        }
      },
      "source": [
        "# roc curve를 출력해 보았다. \n",
        "plot_roc('Baseline classifieir', y_test, y_prob)"
      ],
      "execution_count": 83,
      "outputs": [
        {
          "output_type": "display_data",
          "data": {
            "image/png": "[encoded data removed]",
            "text/plain": [
              "<Figure size 432x288 with 1 Axes>"
            ]
          },
          "metadata": {
            "needs_background": "light"
          }
        }
      ]
    },
    {
      "cell_type": "code",
      "metadata": {
        "id": "DQlXB9GEvzIu",
        "outputId": "e3da781c-0597-4ef6-bb06-2c2393baf1c8",
        "colab": {
          "base_uri": "https://localhost:8080/"
        }
      },
      "source": [
        "# roc_auc_score를 출력해 보았다. \n",
        "from sklearn.metrics import roc_auc_score\n",
        "\n",
        "roc_auc_score(y_test, y_prob)"
      ],
      "execution_count": 84,
      "outputs": [
        {
          "output_type": "execute_result",
          "data": {
            "text/plain": [
              "0.8989265893427929"
            ]
          },
          "metadata": {},
          "execution_count": 84
        }
      ]
    },
    {
      "cell_type": "code",
      "source": [
        "# Confusion Matrix를 출력해 보았다. \n",
        "from sklearn.metrics import classification_report, confusion_matrix\n",
        "print(confusion_matrix(y_test, y_pred))\n",
        "print(classification_report(y_test, y_pred))"
      ],
      "metadata": {
        "colab": {
          "base_uri": "https://localhost:8080/"
        },
        "outputId": "5a5210df-6a3d-41b8-b8be-81ec790c1c6b",
        "id": "ufGWQ6ZkEDVU"
      },
      "execution_count": 85,
      "outputs": [
        {
          "output_type": "stream",
          "name": "stdout",
          "text": [
            "[[802 216]\n",
            " [164 978]]\n",
            "              precision    recall  f1-score   support\n",
            "\n",
            "           0       0.83      0.79      0.81      1018\n",
            "           1       0.82      0.86      0.84      1142\n",
            "\n",
            "    accuracy                           0.82      2160\n",
            "   macro avg       0.82      0.82      0.82      2160\n",
            "weighted avg       0.82      0.82      0.82      2160\n",
            "\n"
          ]
        }
      ]
    },
    {
      "cell_type": "markdown",
      "source": [
        "사실 본 실험에서 decision tree, random forest를 제외한 knn, mlp에서는 분류 모델이라고 하기 어려울 정도로 score가 낮게 나왔다. 0.5~0.6 정도의 매우 낮은 정확도를 보여주었는데, 이렇게까지 낮은 점수가 나올 수 있었던 것은 dataset에 장르가 game인 app과 game이 아닌 app이 거의 5: 5로 분포되어 있어서 가능한 것이라고 예상한다. 점수가 낮은 이유는 데이터의 분포가 knn, mlp로는 분류하기 어려운 형태로 되어 있어서라고 생각한다. 데이터가 decision tree계열의 모델에 잘 맞는 것은 데이터의 형식이 범주형으로 되어 있어서일 것이라고 생각한다."
      ],
      "metadata": {
        "id": "HMjZGw5WjrOC"
      }
    },
    {
      "cell_type": "markdown",
      "source": [
        "# 결론\n",
        " 본 실험에서는 apple store data에서 장르가 game인 것과 그렇지 않은 것을 분류하는 최적의 classification 모델을 선정하고자 했다. 이를 위해 전처리한 데이터에 Decision Tree, KNN, Multi Layer Perceptron, Random Forest등의 모델을 적용했고 그 성능을 비교했다. KNN과 MLP에서는 50-60% 정도의 별로 좋지 못한 성능을 보여주었고 Decision Tree나 Random Forest에서는 그보다 나은 75-81% 정도의 성능을 보여주었다. parameter를 조절해서 확인한 결과 최상의 성능은 min_samples_leaf=4로 parameter를 변경한 Random Forest에서 나타났으며, accuracy는 약 81%정도로 확인되었다. dataset이 범주형으로 분포되어 있기 때문에 decision tree계열의 model에서 비교적 좋은 점수가 나온 것으로 추측된다. 이를 통해 apple store data를 가장 잘 분류하는 모델은 Random Forest(min_samples_leaf=4) 라고 결론지었다.  \n"
      ],
      "metadata": {
        "id": "kmZDuHLeON9H"
      }
    }
  ]
}